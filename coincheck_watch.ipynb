{
 "metadata": {
  "language_info": {
   "codemirror_mode": {
    "name": "ipython",
    "version": 3
   },
   "file_extension": ".py",
   "mimetype": "text/x-python",
   "name": "python",
   "nbconvert_exporter": "python",
   "pygments_lexer": "ipython3",
   "version": "3.7.8"
  },
  "orig_nbformat": 2,
  "kernelspec": {
   "name": "python37564bita46a4a11000847309cdd4e52c21c0e11",
   "display_name": "Python 3.7.8 64-bit"
  },
  "metadata": {
   "interpreter": {
    "hash": "57baa5815c940fdaff4d14510622de9616cae602444507ba5d0b6727c008cbd6"
   }
  }
 },
 "nbformat": 4,
 "nbformat_minor": 2,
 "cells": [
  {
   "cell_type": "code",
   "execution_count": 1,
   "metadata": {},
   "outputs": [],
   "source": [
    "%load_ext autoreload\n",
    "%autoreload 2\n",
    "\n",
    "from binance.client import Client\n",
    "import os\n",
    "import datetime\n",
    "import numpy as np\n",
    "import pandas as pd\n",
    "import seaborn as sns\n",
    "import tensorflow as tf\n",
    "\n",
    "from datetime import datetime\n",
    "from libs import *\n",
    "from utils import *\n",
    "\n",
    "with open(\"C:\\\\Users\\\\thang\\\\OneDrive\\\\Documents\\\\binance_cres\\\\api_key.txt\") as api_file:\n",
    "    api_key = api_file.readline()\n",
    "with open(\"C:\\\\Users\\\\thang\\\\OneDrive\\\\Documents\\\\binance_cres\\\\sec_key.txt\") as api_file:\n",
    "    api_secret = api_file.readline()\n",
    "# make binance object\n",
    "client = Client(api_key, api_secret)\n",
    "\n",
    "# Parameters\n",
    "target_coin = 'ETCUSDT'\n"
   ]
  },
  {
   "cell_type": "code",
   "execution_count": 2,
   "metadata": {
    "tags": []
   },
   "outputs": [],
   "source": [
    "## Raw data\n",
    "# agg_trades = client.aggregate_trade_iter(symbol='ETCUSDT', start_str='60 minutes ago UTC')\n",
    "\n",
    "# # iterate over the trade iterator\n",
    "# df_dict = {'a':[], 'p':[], 'q':[], 'f':[], 'l':[],'T':[], 'm':[],'M':[]}\n",
    "# for trade in agg_trades:\n",
    "#     # prices.append(trade[\"p\"])\n",
    "#     df_dict['a'].append(trade[\"a\"])\n",
    "#     df_dict['p'].append(trade[\"p\"])\n",
    "#     df_dict['q'].append(trade[\"q\"])\n",
    "#     df_dict['f'].append(trade[\"f\"])\n",
    "#     df_dict['l'].append(trade[\"l\"])\n",
    "#     df_dict['T'].append(trade[\"T\"])\n",
    "#     df_dict['m'].append(trade[\"m\"])\n",
    "#     df_dict['M'].append(trade[\"M\"])\n",
    "#     print(trade)\n",
    "\n",
    "# df = pd.DataFrame.from_dict(df_dict)\n",
    "# interested_df = df[['p','q','T']]  # get price as p, quantity as q, Time as T"
   ]
  },
  {
   "cell_type": "code",
   "execution_count": 3,
   "metadata": {},
   "outputs": [
    {
     "output_type": "stream",
     "name": "stderr",
     "text": [
      "C:\\Program Files (x86)\\Microsoft Visual Studio\\Shared\\Python37_64\\lib\\site-packages\\pandas\\core\\generic.py:5494: SettingWithCopyWarning: \nA value is trying to be set on a copy of a slice from a DataFrame.\nTry using .loc[row_indexer,col_indexer] = value instead\n\nSee the caveats in the documentation: https://pandas.pydata.org/pandas-docs/stable/user_guide/indexing.html#returning-a-view-versus-a-copy\n  self[name] = value\nc:\\Users\\thang\\Documents\\pred_coin_price\\ts_pred_viz\\utils.py:12: SettingWithCopyWarning: \nA value is trying to be set on a copy of a slice from a DataFrame.\nTry using .loc[row_indexer,col_indexer] = value instead\n\nSee the caveats in the documentation: https://pandas.pydata.org/pandas-docs/stable/user_guide/indexing.html#returning-a-view-versus-a-copy\n  df['Day sin'] = np.sin(date_time * (2 * np.pi / day))\nc:\\Users\\thang\\Documents\\pred_coin_price\\ts_pred_viz\\utils.py:13: SettingWithCopyWarning: \nA value is trying to be set on a copy of a slice from a DataFrame.\nTry using .loc[row_indexer,col_indexer] = value instead\n\nSee the caveats in the documentation: https://pandas.pydata.org/pandas-docs/stable/user_guide/indexing.html#returning-a-view-versus-a-copy\n  df['Day cos'] = np.cos(date_time * (2 * np.pi / day))\nc:\\Users\\thang\\Documents\\pred_coin_price\\ts_pred_viz\\utils.py:14: SettingWithCopyWarning: \nA value is trying to be set on a copy of a slice from a DataFrame.\nTry using .loc[row_indexer,col_indexer] = value instead\n\nSee the caveats in the documentation: https://pandas.pydata.org/pandas-docs/stable/user_guide/indexing.html#returning-a-view-versus-a-copy\n  df['Year sin'] = np.sin(date_time * (2 * np.pi / year))\nc:\\Users\\thang\\Documents\\pred_coin_price\\ts_pred_viz\\utils.py:15: SettingWithCopyWarning: \nA value is trying to be set on a copy of a slice from a DataFrame.\nTry using .loc[row_indexer,col_indexer] = value instead\n\nSee the caveats in the documentation: https://pandas.pydata.org/pandas-docs/stable/user_guide/indexing.html#returning-a-view-versus-a-copy\n  df['Year cos'] = np.cos(date_time * (2 * np.pi / year))\n"
     ]
    }
   ],
   "source": [
    "avg_data = client.get_klines(symbol=target_coin, interval=Client.KLINE_INTERVAL_30MINUTE)\n",
    "cols = ['open_time',  # Open time\n",
    "            'open',  # Open\n",
    "            'high',  # High\n",
    "            'low',  # Low\n",
    "            'close',  # Close\n",
    "            'vol',  # Volume\n",
    "            'close_time',  # Close time\n",
    "            'quote_ass_vol',  # Quote asset volume\n",
    "            'no_trade',  # Number of trades\n",
    "            'base_ass_vol',  # Taker buy base asset volume\n",
    "            'qoute_ass_vol',  # Taker buy quote asset volume\n",
    "            'ignore']   # Can be ignored\n",
    "df = pd.DataFrame(avg_data, \n",
    "    columns = cols)\n",
    "\n",
    "important_features_df = df[['close','close_time','vol']]  # get important features\n",
    "important_features_df.close_time = important_features_df.close_time.apply(lambda x: x/1000)  # convert milisecond to second\n",
    "important_features_df = data_converter(important_features_df)  # conver time data to sequence vector"
   ]
  },
  {
   "cell_type": "code",
   "execution_count": 4,
   "metadata": {},
   "outputs": [
    {
     "output_type": "execute_result",
     "data": {
      "text/plain": [
       "            close           vol       Day sin       Day cos    Year sin  \\\n",
       "count  500.000000  5.000000e+02  5.000000e+02  5.000000e+02  500.000000   \n",
       "mean    94.624048  2.011190e+05  2.220755e-02 -1.947549e-02    0.729669   \n",
       "std     14.727671  1.709804e+05  7.078198e-01  7.071923e-01    0.035336   \n",
       "min     49.504000  4.307619e+04 -1.000000e+00 -1.000000e+00    0.666757   \n",
       "25%     88.028250  1.011704e+05 -7.071067e-01 -7.071068e-01    0.699401   \n",
       "50%     94.392500  1.517181e+05  7.272503e-08 -7.272329e-08    0.730646   \n",
       "75%    104.828000  2.315755e+05  7.071068e-01  7.071067e-01    0.760431   \n",
       "max    127.869000  1.664977e+06  1.000000e+00  1.000000e+00    0.788697   \n",
       "\n",
       "         Year cos  \n",
       "count  500.000000  \n",
       "mean    -0.681843  \n",
       "std      0.037812  \n",
       "min     -0.745275  \n",
       "25%     -0.714730  \n",
       "50%     -0.682756  \n",
       "75%     -0.649418  \n",
       "max     -0.614782  "
      ],
      "text/html": "<div>\n<style scoped>\n    .dataframe tbody tr th:only-of-type {\n        vertical-align: middle;\n    }\n\n    .dataframe tbody tr th {\n        vertical-align: top;\n    }\n\n    .dataframe thead th {\n        text-align: right;\n    }\n</style>\n<table border=\"1\" class=\"dataframe\">\n  <thead>\n    <tr style=\"text-align: right;\">\n      <th></th>\n      <th>close</th>\n      <th>vol</th>\n      <th>Day sin</th>\n      <th>Day cos</th>\n      <th>Year sin</th>\n      <th>Year cos</th>\n    </tr>\n  </thead>\n  <tbody>\n    <tr>\n      <th>count</th>\n      <td>500.000000</td>\n      <td>5.000000e+02</td>\n      <td>5.000000e+02</td>\n      <td>5.000000e+02</td>\n      <td>500.000000</td>\n      <td>500.000000</td>\n    </tr>\n    <tr>\n      <th>mean</th>\n      <td>94.624048</td>\n      <td>2.011190e+05</td>\n      <td>2.220755e-02</td>\n      <td>-1.947549e-02</td>\n      <td>0.729669</td>\n      <td>-0.681843</td>\n    </tr>\n    <tr>\n      <th>std</th>\n      <td>14.727671</td>\n      <td>1.709804e+05</td>\n      <td>7.078198e-01</td>\n      <td>7.071923e-01</td>\n      <td>0.035336</td>\n      <td>0.037812</td>\n    </tr>\n    <tr>\n      <th>min</th>\n      <td>49.504000</td>\n      <td>4.307619e+04</td>\n      <td>-1.000000e+00</td>\n      <td>-1.000000e+00</td>\n      <td>0.666757</td>\n      <td>-0.745275</td>\n    </tr>\n    <tr>\n      <th>25%</th>\n      <td>88.028250</td>\n      <td>1.011704e+05</td>\n      <td>-7.071067e-01</td>\n      <td>-7.071068e-01</td>\n      <td>0.699401</td>\n      <td>-0.714730</td>\n    </tr>\n    <tr>\n      <th>50%</th>\n      <td>94.392500</td>\n      <td>1.517181e+05</td>\n      <td>7.272503e-08</td>\n      <td>-7.272329e-08</td>\n      <td>0.730646</td>\n      <td>-0.682756</td>\n    </tr>\n    <tr>\n      <th>75%</th>\n      <td>104.828000</td>\n      <td>2.315755e+05</td>\n      <td>7.071068e-01</td>\n      <td>7.071067e-01</td>\n      <td>0.760431</td>\n      <td>-0.649418</td>\n    </tr>\n    <tr>\n      <th>max</th>\n      <td>127.869000</td>\n      <td>1.664977e+06</td>\n      <td>1.000000e+00</td>\n      <td>1.000000e+00</td>\n      <td>0.788697</td>\n      <td>-0.614782</td>\n    </tr>\n  </tbody>\n</table>\n</div>"
     },
     "metadata": {},
     "execution_count": 4
    }
   ],
   "source": [
    "important_features_df.describe()"
   ]
  },
  {
   "cell_type": "code",
   "execution_count": 5,
   "metadata": {},
   "outputs": [],
   "source": [
    "# data splitting\n",
    "# column_indices = {name: i for i, name in enumerate(important_features_df.columns)}\n",
    "\n",
    "n = len(important_features_df)\n",
    "train_df = important_features_df[0:int(n*0.7)]  # 70% train data\n",
    "val_df = important_features_df[int(n*0.7):int(n*0.9)]  # 20% val data\n",
    "test_df = important_features_df[int(n*0.9):]  # 10% test data\n",
    "\n",
    "num_features = important_features_df.shape[1]  # number of features"
   ]
  },
  {
   "cell_type": "code",
   "execution_count": 6,
   "metadata": {},
   "outputs": [],
   "source": [
    "# normalization\n",
    "train_mean = train_df.mean()\n",
    "train_std = train_df.std()\n",
    "\n",
    "# normalize base on train_data distribution\n",
    "train_df = (train_df - train_mean) / train_std\n",
    "val_df = (val_df - train_mean) / train_std\n",
    "test_df = (test_df - train_mean) / train_std\n"
   ]
  },
  {
   "cell_type": "code",
   "execution_count": 7,
   "metadata": {},
   "outputs": [],
   "source": [
    "time_predictors = 24  # number of historical data as predictor\n",
    "time_shift = 24  # number of timestamp to target\n",
    "label_width = 1  # number of predicting timestamp"
   ]
  },
  {
   "cell_type": "code",
   "execution_count": 8,
   "metadata": {},
   "outputs": [],
   "source": [
    "# def input_windows_maker(data_matrix):\n",
    "#     inputs = data_matrix[:, :24, :]\n",
    "#     return inputs\n",
    "\n",
    "# def output_windows_maker(data_matrix):\n",
    "#     inputs = data_matrix[:, 24:, :]\n",
    "#     return inputs\n",
    "# ds_output = ds.map(output_windows_maker)\n",
    "# for k in ds_output:\n",
    "#     print(k.numpy().shape)"
   ]
  },
  {
   "cell_type": "code",
   "execution_count": 9,
   "metadata": {},
   "outputs": [
    {
     "output_type": "execute_result",
     "data": {
      "text/plain": [
       "Total window size: 48\n",
       "Input indices: [ 0  1  2  3  4  5  6  7  8  9 10 11 12 13 14 15 16 17 18 19 20 21 22 23]\n",
       "Label indices: [47]\n",
       "Label column name(s): ['close']"
      ]
     },
     "metadata": {},
     "execution_count": 9
    }
   ],
   "source": [
    "# prepare data\n",
    "single_step_window = WindowGenerator(\n",
    "    input_width=time_predictors, label_width=label_width, shift=time_shift, train_df=train_df, val_df=val_df, test_df=test_df, label_columns=['close'])\n",
    "single_step_window"
   ]
  },
  {
   "cell_type": "code",
   "execution_count": 10,
   "metadata": {
    "tags": [
     "outputPrepend"
    ]
   },
   "outputs": [
    {
     "output_type": "stream",
     "name": "stdout",
     "text": [
      "282e+00]\n  ...\n  [ 1.8567853e-01 -5.4505813e-01  3.1684849e-01 -1.3599648e+00\n   -1.2720699e+00 -1.2505670e+00]\n  [ 2.2807574e-02 -8.1901377e-01  1.3698444e-01 -1.3963134e+00\n   -1.2824571e+00 -1.2600414e+00]\n  [-9.7420804e-02 -6.7261457e-01 -4.6010718e-02 -1.4084990e+00\n   -1.2928482e+00 -1.2695125e+00]]\n\n ...\n\n [[ 1.7570886e-01 -2.8484806e-01 -1.4359971e+00  2.0178506e-01\n   -4.4356191e-01 -4.7230324e-01]\n  [ 2.6099402e-01 -1.0191450e-01 -1.4002199e+00  3.8452116e-01\n   -4.5363414e-01 -4.8204061e-01]\n  [-2.2006616e-02  3.8446924e-01 -1.3412719e+00  5.6094950e-01\n   -4.6371031e-01 -4.9177477e-01]\n  ...\n  [ 5.9226370e-01 -1.8906114e-01  1.3081982e+00  3.8452137e-01\n   -6.5590465e-01 -6.7611504e-01]\n  [ 5.3234690e-01 -2.6442084e-01  1.3439754e+00  2.0178527e-01\n   -6.6605937e-01 -6.8578500e-01]\n  [ 6.3747269e-01 -5.2770764e-01  1.3559695e+00  1.5868064e-02\n   -6.7621797e-01 -6.9545180e-01]]\n\n [[-1.1301693e-01  6.1029172e+00 -1.2601615e+00  7.2805136e-01\n    1.3878796e+00  1.4240048e+00]\n  [ 2.2841983e-01  8.8430634e+00 -1.1582767e+00  8.8296759e-01\n    1.3785748e+00  1.4136862e+00]\n  [ 2.8734949e-01  2.8004913e+00 -1.0373607e+00  1.0230474e+00\n    1.3692659e+00  1.4033704e+00]\n  ...\n  [ 4.6157208e-01 -5.5565572e-01  1.3439754e+00 -1.7004915e-01\n    1.1916044e+00  1.2079353e+00]\n  [ 6.9363850e-01 -2.1250837e-01  1.3081982e+00 -3.5278526e-01\n    1.1822122e+00  1.1976790e+00]\n  [ 5.5110174e-01 -2.8831965e-01  1.2492502e+00 -5.2921361e-01\n    1.1728159e+00  1.1874256e+00]]\n\n [[-2.2078335e+00  1.1494179e+00 -1.4002199e+00  3.8452116e-01\n    2.5363924e-02 -1.1064107e-02]\n  [-1.9636259e+00  7.7868015e-01 -1.3412719e+00  5.6094950e-01\n    1.5478366e-02 -2.0950304e-02]\n  [-2.0942187e+00 -2.9490022e-02 -1.2601615e+00  7.2805136e-01\n    5.5888058e-03 -3.0833362e-02]\n  ...\n  [-1.2766066e+00 -6.3503981e-01  1.3439754e+00  2.0178527e-01\n   -1.8307136e-01 -2.1801367e-01]\n  [-1.1130446e+00 -5.1353103e-01  1.3559695e+00  1.5868064e-02\n   -1.9304067e-01 -2.2783372e-01]\n  [-1.3216182e+00 -6.1926067e-01  1.3439754e+00 -1.7004915e-01\n   -2.0301397e-01 -2.3765060e-01]]]\n5\n[[[-1.1499621  -0.17497829 -0.22900587 -1.3963134   0.15351151\n    0.11774138]\n  [-1.2031666  -0.44069865 -0.40886995 -1.359965    0.14367808\n    0.10781451]\n  [-1.1862872  -0.40502733 -0.5825254  -1.3000757   0.13384064\n    0.09789076]\n  ...\n  [-1.8734052  -0.3546904  -0.40887013  1.3917009  -0.0538325\n   -0.09006576]\n  [-1.7116201   0.02018024 -0.22900608  1.4280493  -0.06375004\n   -0.09992682]\n  [-1.2651563   0.23435482 -0.04601092  1.440235   -0.07367156\n   -0.10978474]]\n\n [[ 0.16564047  0.6264788  -0.5825254  -1.3000757  -0.34305662\n   -0.37475398]\n  [ 0.46226305  0.4128429  -0.74700093 -1.2176701  -0.35308936\n   -0.38452327]\n  [ 0.35407722  0.06123121 -0.8994823  -1.1141584  -0.36312607\n   -0.39428934]\n  ...\n  [ 0.20857918 -0.62518394 -0.04601092  1.440235   -0.554573\n   -0.5792383 ]\n  [ 0.40965077  0.8582037   0.13698424  1.4280493  -0.5646885\n   -0.58894044]\n  [ 0.8244288   0.9790284   0.3168483   1.3917009  -0.57480794\n   -0.59863937]]\n\n [[-0.01539307 -0.8488899   1.3081982  -0.35278526 -1.1891105\n   -1.174653  ]\n  [-0.15378402 -0.4527863   1.2492502  -0.5292136  -1.199467\n   -1.1841538 ]\n  [-0.07827113 -0.7310418   1.1681398  -0.69631547 -1.2098273\n   -1.1936513 ]\n  ...\n  [-0.7557156   0.80489624 -1.435997   -0.17004934 -1.4074024\n   -1.373477  ]\n  [-0.6547356  -0.21644773 -1.4479913   0.01586786 -1.4178393\n   -1.3829085 ]\n  [-0.8359666  -0.3919259  -1.4359971   0.20178506 -1.4282801\n   -1.3923366 ]]\n\n ...\n\n [[ 1.5310913  -0.2514275  -1.4359971   0.20178506  1.4157687\n    1.4549783 ]\n  [ 1.2178856   1.3501276  -1.4002199   0.38452116  1.4064766\n    1.4446509 ]\n  [ 1.0840353   0.589229   -1.3412719   0.5609495   1.3971802\n    1.4343263 ]\n  ...\n  [ 0.48476884 -0.476942    1.3081982   0.38452137  1.2197561\n    1.2387222 ]\n  [ 0.3896127  -0.6674632   1.3439754   0.20178527  1.2103764\n    1.228457  ]\n  [ 0.33561853 -0.44495666  1.3559695   0.01586806  1.2009925\n    1.2181947 ]]\n\n [[-0.48643562 -0.5141949   0.3168483   1.3917009  -1.0651331\n   -1.0603881 ]\n  [-0.32159048 -0.33372223  0.49050376  1.3318115  -1.0754433\n   -1.0699282 ]\n  [-0.21755047 -0.5460703   0.6549793   1.249406   -1.0857574\n   -1.079465  ]\n  ...\n  [ 0.02280757 -0.8190138   0.13698444 -1.3963134  -1.2824571\n   -1.2600414 ]\n  [-0.0974208  -0.6726146  -0.04601072 -1.408499   -1.2928482\n   -1.2695125 ]\n  [-0.14884855 -0.7504741  -0.22900587 -1.3963134  -1.303243\n   -1.2789804 ]]\n\n [[-0.23087628 -0.6561589  -0.7470011   1.249406   -1.0033528\n   -1.0030788 ]\n  [-0.20027629 -0.8667777  -0.58252555  1.3318114  -1.0136398\n   -1.0126386 ]\n  [-0.41664788 -0.65692604 -0.40887013  1.3917009  -1.0239308\n   -1.022195  ]\n  ...\n  [-0.1534879  -0.7646139   1.0662551  -0.85123163 -1.2201915\n   -1.2031455 ]\n  [-0.20442209 -0.7242219   0.9453391  -0.99131155 -1.2305595\n   -1.2126364 ]\n  [-0.04707887 -0.25732046  0.80746084 -1.1141583  -1.2409314\n   -1.222124  ]]]\n6\n[[[-0.76440203  0.3001138   1.0662551  -0.85123163 -0.24294685\n   -0.27688646]\n  [-0.2986898   0.8071276   0.9453391  -0.99131155 -0.25294\n   -0.2866875 ]\n  [-0.09791435  2.2064583   0.80746084 -1.1141583  -0.2629371\n   -0.29648536]\n  ...\n  [ 0.26099402 -0.1019145  -1.4002199   0.38452116 -0.45363414\n   -0.4820406 ]\n  [-0.02200662  0.38446924 -1.3412719   0.5609495  -0.4637103\n   -0.49177477]\n  [ 0.08943661 -0.65569896 -1.2601615   0.72805136 -0.4737904\n   -0.50150573]]\n\n [[-0.42010272 -0.53398424 -1.4479913   0.01586786 -0.92119586\n   -0.9264838 ]\n  [-0.3320537  -0.31233272 -1.4359971   0.20178506 -0.93145186\n   -0.9360696 ]\n  [-0.3829879  -0.708812   -1.4002199   0.38452116 -0.94171184\n   -0.9456521 ]\n  ...\n  [-0.15486984 -0.8789823   1.2492502   0.5609497  -1.1373857\n   -1.1271    ]\n  [-0.25298724 -0.6967394   1.3081982   0.38452137 -1.147723\n   -1.1366172 ]\n  [-0.24933499 -0.875317    1.3439754   0.20178527 -1.1580641\n   -1.146131  ]]\n\n [[-0.23837821 -0.60805446  1.066255    0.8829677  -1.1167228\n   -1.1080558 ]\n  [-0.18369307 -0.76610345  1.1681397   0.72805154 -1.1270524\n   -1.1175796 ]\n  [-0.15486984 -0.8789823   1.2492502   0.5609497  -1.1373857\n   -1.1271    ]\n  ...\n  [-0.26325306 -0.79118836 -0.74700093 -1.2176701  -1.3344507\n   -1.307364  ]\n  [-0.35742208 -0.68658453 -0.8994823  -1.1141584  -1.3448609\n   -1.3168187 ]\n  [-0.3922666  -0.44098198 -1.0373605  -0.99131167 -1.3552749\n   -1.32627   ]]\n\n ...\n\n [[ 1.7499307  -0.15606284 -0.04601072 -1.408499    1.5361867\n    1.5895034 ]\n  [ 1.7816166  -0.03676906 -0.22900587 -1.3963134   1.5269489\n    1.5791377 ]\n  [ 1.7615784  -0.31961554 -0.40886995 -1.359965    1.5177069\n    1.5687749 ]\n  ...\n  [ 0.5698566   1.2348526  -0.58252555  1.3318114   1.3413141\n    1.3724412 ]\n  [ 0.8242314   0.25271085 -0.40887013  1.3917009   1.3319885\n    1.3621373 ]\n  [ 0.31646883  0.12428182 -0.22900608  1.4280493   1.3226587\n    1.3518363 ]]\n\n [[ 0.5924611  -0.59173274  0.49050394 -1.3000755   0.6592823\n    0.6382074 ]\n  [ 0.37026563  0.8596893   0.3168485  -1.3599648   0.6496595\n    0.62812   ]\n  [ 0.52593076 -0.7239358   0.13698444 -1.3963134   0.64003265\n    0.6180357 ]\n  ...\n  [ 0.04403016 -0.33687872 -1.0373607   1.0230474   0.45634818\n    0.42701527]\n  [ 0.22220111 -0.80433065 -0.8994825   1.1458942   0.44663993\n    0.4169923 ]\n  [ 0.07769015 -0.7479201  -0.7470011   1.249406    0.4369276\n    0.4069724 ]]\n\n [[-0.20027629 -0.8667777  -0.58252555  1.3318114  -1.0136398\n   -1.0126386 ]\n  [-0.41664788 -0.65692604 -0.40887013  1.3917009  -1.0239308\n   -1.022195  ]\n  [-0.5361853  -0.5855284  -0.22900608  1.4280493  -1.0342255\n   -1.0317482 ]\n  ...\n  [-0.20442209 -0.7242219   0.9453391  -0.99131155 -1.2305595\n   -1.2126364 ]\n  [-0.04707887 -0.25732046  0.80746084 -1.1141583  -1.2409314\n   -1.222124  ]\n  [-0.01944016 -0.73631316  0.65497947 -1.21767    -1.251307\n   -1.2316083 ]]]\n7\n[[[ 2.4820604   1.0450776   1.2492502  -0.5292136   1.6191376\n    1.6829265 ]\n  [ 2.2371616   0.2305846   1.1681398  -0.69631547  1.6099377\n    1.6725345 ]\n  [ 2.224527    0.9312165   1.0662551  -0.85123163  1.6007335\n    1.6621454 ]\n  ...\n  [ 1.5756094  -0.35510215 -1.4479913   0.01586786  1.4250568\n    1.4653088 ]\n  [ 1.5310913  -0.2514275  -1.4359971   0.20178506  1.4157687\n    1.4549783 ]\n  [ 1.2178856   1.3501276  -1.4002199   0.38452116  1.4064766\n    1.4446509 ]]\n\n [[ 0.6514895  -0.02113945 -1.1582766  -0.8512318   1.0219107\n    1.0237784 ]\n  [ 0.65642494 -0.38003254 -1.2601614  -0.69631565  1.012444\n    1.0135759 ]\n  [ 1.1517501   3.9107852  -1.3412718  -0.5292138   1.0029731\n    1.0033765 ]\n  ...\n  [ 0.89115655 -0.6979863   0.6549793   1.249406    0.8222438\n    0.810159  ]\n  [ 0.9967759  -0.5208057   0.80746067  1.1458944   0.8126906\n    0.8000199 ]\n  [ 0.868552   -0.265211    0.94533896  1.0230476   0.8031333\n    0.78988385]]\n\n [[ 0.52593076 -0.7239358   0.13698444 -1.3963134   0.64003265\n    0.6180357 ]\n  [ 0.65642494 -0.7079992  -0.04601072 -1.408499    0.63040173\n    0.6079544 ]\n  [ 0.62868756 -0.812645   -0.22900587 -1.3963134   0.6207667\n    0.59787613]\n  ...\n  [ 0.07769015 -0.7479201  -0.7470011   1.249406    0.4369276\n    0.4069724 ]\n  [-0.37667048  1.041265   -0.58252555  1.3318114   0.42721123\n    0.39695558]\n  [-0.16701113  0.7000422  -0.40887013  1.3917009   0.4174908\n    0.38694185]]\n\n ...\n\n [[ 0.6675792  -0.33404493  1.2492502   0.5609497  -0.64575386\n   -0.66644186]\n  [ 0.5922637  -0.18906114  1.3081982   0.38452137 -0.65590465\n   -0.67611504]\n  [ 0.5323469  -0.26442084  1.3439754   0.20178527 -0.6660594\n   -0.685785  ]\n  ...\n  [ 0.17087208 -0.09987092 -1.0373605  -0.99131167 -0.8597411\n   -0.86890084]\n  [ 0.12556434 -0.61988425 -1.1582766  -0.8512318  -0.86997384\n   -0.8785061 ]\n  [ 0.09358241 -0.5371328  -1.2601614  -0.69631565 -0.88021046\n   -0.8881082 ]]\n\n [[-1.2766066  -0.6350398   1.3439754   0.20178527 -0.18307136\n   -0.21801367]\n  [-1.1130446  -0.513531    1.3559695   0.01586806 -0.19304067\n   -0.22783372]\n  [-1.3216182  -0.61926067  1.3439754  -0.17004915 -0.20301397\n   -0.2376506 ]\n  ...\n  [ 0.55208886  0.14406765 -1.2601614  -0.69631565 -0.3932599\n   -0.4235685 ]\n  [ 0.27659014 -0.06734987 -1.3412718  -0.5292138  -0.4033124\n   -0.4333218 ]\n  [ 0.264054    0.01746664 -1.4002198  -0.35278544 -0.41336885\n   -0.44307196]]\n\n [[ 0.02497919 -0.05680179  1.1681398  -0.69631547 -0.71689165\n   -0.7340866 ]\n  [ 0.1485637  -0.04814504  1.0662551  -0.85123163 -0.7270698\n   -0.74373716]\n  [ 0.18360563 -0.34294116  0.9453391  -0.99131155 -0.7372519\n   -0.75338453]\n  ...\n  [-0.3320537  -0.31233272 -1.4359971   0.20178506 -0.93145186\n   -0.9360696 ]\n  [-0.3829879  -0.708812   -1.4002199   0.38452116 -0.94171184\n   -0.9456521 ]\n  [-0.5716221  -0.3755562  -1.3412719   0.5609495  -0.95197564\n   -0.95523137]]]\n8\n[[[ 1.033792   -0.7544975  -1.1582767   0.8829676   0.9270577\n    0.92188895]\n  [ 1.0959791  -0.18432762 -1.0373607   1.0230474   0.9175497\n    0.9117166 ]\n  [ 1.0601475  -0.36611733 -0.8994825   1.1458942   0.90803766\n    0.90154725]\n  ...\n  [ 0.8242314  -0.6567818   1.3081982  -0.35278526  0.7265274\n    0.7089045 ]\n  [ 0.8795088  -0.68775225  1.2492502  -0.5292136   0.7169332\n    0.6987958 ]\n  [ 0.77201396 -0.6458242   1.1681398  -0.69631547  0.70733494\n    0.68869007]]\n\n [[ 0.16781208 -0.3007213  -0.5825254  -1.3000757  -0.8290662\n   -0.84006554]\n  [ 0.09160822 -0.3014028  -0.74700093 -1.2176701  -0.8392873\n   -0.84968054]\n  [-0.07353307 -0.23911951 -0.8994823  -1.1141584  -0.8495122\n   -0.8592923 ]\n  ...\n  [-0.6033079  -0.18630865 -0.04601092  1.440235   -1.0445242\n   -1.0412982 ]\n  [-0.3607782   0.02356213  0.13698424  1.4280493  -1.0548267\n   -1.0508448 ]\n  [-0.48643562 -0.5141949   0.3168483   1.3917009  -1.0651331\n   -1.0603881 ]]\n\n [[-1.4181563   0.71210754  0.13698444 -1.3963134   0.1731663\n    0.13760448]\n  [-1.314215   -0.10597532 -0.04601072 -1.408499    0.16334091\n    0.12767136]\n  [-1.1499621  -0.17497829 -0.22900587 -1.3963134   0.15351151\n    0.11774138]\n  ...\n  [-1.735804   -0.50242245 -0.7470011   1.249406   -0.03400942\n   -0.0703342 ]\n  [-1.6827968  -0.6639756  -0.58252555  1.3318114  -0.04391897\n   -0.08020155]\n  [-1.8734052  -0.3546904  -0.40887013  1.3917009  -0.0538325\n   -0.09006576]]\n\n ...\n\n [[ 2.2130766   1.8021058   1.1681397   0.72805154  1.6834195\n    1.7557523 ]\n  [ 2.2756584   0.12062023  1.2492502   0.5609497   1.6742489\n    1.7453399 ]\n  [ 2.1653998  -0.22530244  1.3081982   0.38452137  1.6650742\n    1.7349304 ]\n  ...\n  [ 1.7006745   0.12742472 -0.8994823  -1.1141584   1.4899559\n    1.5377042 ]\n  [ 1.6089733   0.00975253 -1.0373605  -0.99131167  1.4806972\n    1.5273532 ]\n  [ 1.8987849   0.15010093 -1.1582766  -0.8512318   1.4714342\n    1.5170051 ]]\n\n [[ 1.0178998  -0.8193932  -0.40887013  1.3917009   0.8794767\n    0.8710573 ]\n  [ 1.0268824  -0.685321   -0.22900608  1.4280493   0.86994815\n    0.8609    ]\n  [ 0.9844372  -0.6237926  -0.04601092  1.440235    0.8604155\n    0.85074574]\n  ...\n  [ 0.77231014 -0.621507    0.80746084 -1.1141583   0.6785156\n    0.6583913 ]\n  [ 0.73470175 -0.90289736  0.65497947 -1.21767     0.668901\n    0.64829785]\n  [ 0.5924611  -0.59173274  0.49050394 -1.3000755   0.6592823\n    0.6382074 ]]\n\n [[ 1.0601475  -0.36611733 -0.8994825   1.1458942   0.90803766\n    0.90154725]\n  [ 1.0370494  -0.7280121  -0.7470011   1.249406    0.8985214\n    0.8913809 ]\n  [ 0.9065553  -0.7303913  -0.58252555  1.3318114   0.88900113\n    0.8812176 ]\n  ...\n  [ 0.77201396 -0.6458242   1.1681398  -0.69631547  0.70733494\n    0.68869007]\n  [ 0.6436914  -0.3498067   1.0662551  -0.85123163  0.6977326\n    0.67858744]\n  [ 0.7820824  -0.62369555  0.9453391  -0.99131155  0.68812615\n    0.66848785]]]\n9\n[[[-2.9868981e-01  8.0712759e-01  9.4533908e-01 -9.9131155e-01\n   -2.5294000e-01 -2.8668749e-01]\n  [-9.7914353e-02  2.2064583e+00  8.0746084e-01 -1.1141583e+00\n   -2.6293710e-01 -2.9648536e-01]\n  [-1.1183242e-01  6.7167091e-01  6.5497947e-01 -1.2176700e+00\n   -2.7293816e-01 -3.0628008e-01]\n  ...\n  [-2.2006616e-02  3.8446924e-01 -1.3412719e+00  5.6094950e-01\n   -4.6371031e-01 -4.9177477e-01]\n  [ 8.9436606e-02 -6.5569896e-01 -1.2601615e+00  7.2805136e-01\n   -4.7379041e-01 -5.0150573e-01]\n  [ 4.1463703e-02 -6.4999491e-01 -1.1582767e+00  8.8296759e-01\n   -4.8387447e-01 -5.1123351e-01]]\n\n [[ 3.8961270e-01 -6.6746318e-01  1.3439754e+00  2.0178527e-01\n    1.2103764e+00  1.2284570e+00]\n  [ 3.3561853e-01 -4.4495666e-01  1.3559695e+00  1.5868064e-02\n    1.2009925e+00  1.2181947e+00]\n  [ 4.6157208e-01 -5.5565572e-01  1.3439754e+00 -1.7004915e-01\n    1.1916044e+00  1.2079353e+00]\n  ...\n  [ 6.5642494e-01 -3.8003254e-01 -1.2601614e+00 -6.9631565e-01\n    1.0124440e+00  1.0135759e+00]\n  [ 1.1517501e+00  3.9107852e+00 -1.3412718e+00 -5.2921379e-01\n    1.0029731e+00  1.0033765e+00]\n  [ 9.9953979e-01  7.8802079e-01 -1.4002198e+00 -3.5278544e-01\n    9.9349815e-01  9.9317998e-01]]\n\n [[-2.4933499e-01 -8.7531698e-01  1.3439754e+00  2.0178527e-01\n   -1.1580641e+00 -1.1461310e+00]\n  [-2.2692789e-01 -7.8806758e-01  1.3559695e+00  1.5868064e-02\n   -1.1684090e+00 -1.1556417e+00]\n  [ 1.9798339e-03 -5.2248245e-01  1.3439754e+00 -1.7004915e-01\n   -1.1787578e+00 -1.1651490e+00]\n  ...\n  [-5.3519821e-01 -6.6481990e-01 -1.2601614e+00 -6.9631565e-01\n   -1.3761145e+00 -1.3451627e+00]\n  [-5.5494016e-01 -2.1520212e-01 -1.3412718e+00 -5.2921379e-01\n   -1.3865399e+00 -1.3546041e+00]\n  [-6.0913175e-01 -3.6482520e-02 -1.4002198e+00 -3.5278544e-01\n   -1.3969692e+00 -1.3640422e+00]]\n\n ...\n\n [[-8.1188142e-01 -7.1473306e-01  1.3439754e+00 -1.7004915e-01\n    2.7119881e-01  2.3710676e-01]\n  [-7.4278462e-01 -8.2966781e-01  1.3081982e+00 -3.5278526e-01\n    2.6141369e-01  2.2714254e-01]\n  [-8.6409885e-01 -6.5190709e-01  1.2492502e+00 -5.2921361e-01\n    2.5162455e-01  2.1718143e-01]\n  ...\n  [-1.6345278e+00  6.7101890e-01 -1.4002198e+00 -3.5278544e-01\n    6.4866126e-02  2.8512029e-02]\n  [-1.9820845e+00  2.0823367e+00 -1.4359970e+00 -1.7004934e-01\n    5.4996580e-02  1.8613294e-02]\n  [-1.7624556e+00  2.1323969e+00 -1.4479913e+00  1.5867855e-02\n    4.5123033e-02  8.7176934e-03]]\n\n [[ 9.1608219e-02 -3.0140281e-01 -7.4700093e-01 -1.2176701e+00\n   -8.3928728e-01 -8.4968054e-01]\n  [-7.3533066e-02 -2.3911951e-01 -8.9948231e-01 -1.1141584e+00\n   -8.4951222e-01 -8.5929233e-01]\n  [ 1.7087208e-01 -9.9870920e-02 -1.0373605e+00 -9.9131167e-01\n   -8.5974109e-01 -8.6890084e-01]\n  ...\n  [-3.6077821e-01  2.3562128e-02  1.3698424e-01  1.4280493e+00\n   -1.0548267e+00 -1.0508448e+00]\n  [-4.8643562e-01 -5.1419491e-01  3.1684831e-01  1.3917009e+00\n   -1.0651331e+00 -1.0603881e+00]\n  [-3.2159048e-01 -3.3372223e-01  4.9050376e-01  1.3318115e+00\n   -1.0754433e+00 -1.0699282e+00]]\n\n [[-1.5805336e+00  2.3524628e+00  6.5497947e-01 -1.2176700e+00\n    2.0261835e-01  1.6742249e-01]\n  [-1.4316795e+00  9.3466002e-01  4.9050394e-01 -1.3000755e+00\n    1.9280502e-01  1.5748003e-01]\n  [-1.6037304e+00  1.0293944e+00  3.1684849e-01 -1.3599648e+00\n    1.8298768e-01  1.4754069e-01]\n  ...\n  [-1.8789330e+00  7.2786063e-03 -1.1582767e+00  8.8296759e-01\n   -4.3047541e-03 -4.0713284e-02]\n  [-1.7908839e+00 -2.7931970e-01 -1.0373607e+00  1.0230474e+00\n   -1.4202313e-02 -5.0590064e-02]\n  [-1.6679904e+00 -3.9373609e-01 -8.9948249e-01  1.1458942e+00\n   -2.4103869e-02 -6.0463700e-02]]]\n10\n[[[ 0.40965077  0.8582037   0.13698424  1.4280493  -0.5646885\n   -0.58894044]\n  [ 0.8244288   0.9790284   0.3168483   1.3917009  -0.57480794\n   -0.59863937]\n  [ 1.0943998   3.8514793   0.49050376  1.3318115  -0.5849313\n   -0.6083351 ]\n  ...\n  [ 0.00908693 -0.05073312  0.3168485  -1.3599648  -0.77801925\n   -0.7919418 ]\n  [ 0.10651337 -0.3610174   0.13698444 -1.3963134  -0.7882209\n   -0.80157304]\n  [ 0.18952821 -0.4959524  -0.04601072 -1.408499   -0.79842633\n   -0.811201  ]]\n\n [[-1.4042381  -0.8644769   0.94533896  1.0230476  -0.13328445\n   -0.16886604]\n  [-1.2774949  -0.81254363  1.066255    0.8829677  -0.14323387\n   -0.17870189]\n  [-1.3475788  -0.6321784   1.1681397   0.72805154 -0.15318727\n   -0.18853457]\n  ...\n  [ 0.16564047  0.6264788  -0.5825254  -1.3000757  -0.34305662\n   -0.37475398]\n  [ 0.46226305  0.4128429  -0.74700093 -1.2176701  -0.35308936\n   -0.38452327]\n  [ 0.35407722  0.06123121 -0.8994823  -1.1141584  -0.36312607\n   -0.39428934]]\n\n [[ 2.0379655   0.05710926 -1.2601614  -0.69631565  1.4621671\n    1.50666   ]\n  [ 1.785861    0.14084168 -1.3412718  -0.5292138   1.4528958\n    1.4963177 ]\n  [ 1.7021552  -0.3970317  -1.4002198  -0.35278544  1.4436203\n    1.4859785 ]\n  ...\n  [ 0.5104334  -0.3489942   0.80746067  1.1458944   1.2665924\n    1.2900932 ]\n  [ 0.26316562 -0.241746    0.94533896  1.0230476   1.2572335\n    1.279813  ]\n  [ 0.15606563 -0.01058118  1.066255    0.8829677   1.2478703\n    1.2695359 ]]\n\n ...\n\n [[ 0.88612235 -0.7756028  -1.2601615   0.72805136  0.9365616\n    0.93206435]\n  [ 1.033792   -0.7544975  -1.1582767   0.8829676   0.9270577\n    0.92188895]\n  [ 1.0959791  -0.18432762 -1.0373607   1.0230474   0.9175497\n    0.9117166 ]\n  ...\n  [ 0.8905643  -0.57994497  1.3439754  -0.17004915  0.7361175\n    0.71901625]\n  [ 0.8242314  -0.6567818   1.3081982  -0.35278526  0.7265274\n    0.7089045 ]\n  [ 0.8795088  -0.68775225  1.2492502  -0.5292136   0.7169332\n    0.6987958 ]]\n\n [[-0.07827113 -0.7310418   1.1681398  -0.69631547 -1.2098273\n   -1.1936513 ]\n  [-0.1534879  -0.7646139   1.0662551  -0.85123163 -1.2201915\n   -1.2031455 ]\n  [-0.20442209 -0.7242219   0.9453391  -0.99131155 -1.2305595\n   -1.2126364 ]\n  ...\n  [-0.8359666  -0.3919259  -1.4359971   0.20178506 -1.4282801\n   -1.3923366 ]\n  [-0.9636969   0.38404477 -1.4002199   0.38452116 -1.4387246\n   -1.4017615 ]\n  [-0.9424743   0.01498462 -1.3412719   0.5609495  -1.4491731\n   -1.411183  ]]\n\n [[-1.4234866   0.48566857  0.13698424  1.4280493  -0.08359708\n   -0.1196395 ]\n  [-1.2259685  -0.39486465  0.3168483   1.3917009  -0.09352658\n   -0.12949112]\n  [-1.1300226   0.01291112  0.49050376  1.3318115  -0.10346007\n   -0.13933958]\n  ...\n  [ 0.50816303  3.9404647   0.3168485  -1.3599648  -0.2929522\n   -0.32585993]\n  [ 0.5395527   1.9076883   0.13698444 -1.3963134  -0.30296516\n   -0.3356451 ]\n  [ 0.60697144  0.80517244 -0.04601072 -1.408499   -0.3129821\n   -0.3454271 ]]]\n"
     ]
    }
   ],
   "source": [
    "count = 0\n",
    "for element in single_step_window.train[0]:\n",
    "    count += 1\n",
    "    print(count)\n",
    "    print(element.numpy())\n",
    "    if len(element.numpy()) < 32:\n",
    "        break\n",
    "    if count == 1:\n",
    "        train_input = element.numpy()\n",
    "    else:\n",
    "        train_input = np.append(train_input, element.numpy(), axis=0)"
   ]
  },
  {
   "cell_type": "code",
   "execution_count": 11,
   "metadata": {},
   "outputs": [
    {
     "output_type": "execute_result",
     "data": {
      "text/plain": [
       "(288, 24, 6)"
      ]
     },
     "metadata": {},
     "execution_count": 11
    }
   ],
   "source": [
    "train_input.shape"
   ]
  },
  {
   "cell_type": "code",
   "execution_count": 12,
   "metadata": {},
   "outputs": [
    {
     "output_type": "stream",
     "name": "stdout",
     "text": [
      "1\n(32, 1, 1)\n2\n(32, 1, 1)\n3\n(32, 1, 1)\n4\n(32, 1, 1)\n5\n(32, 1, 1)\n6\n(32, 1, 1)\n7\n(32, 1, 1)\n8\n(32, 1, 1)\n9\n(32, 1, 1)\n10\n(15, 1, 1)\n"
     ]
    }
   ],
   "source": [
    "count = 0\n",
    "for element in single_step_window.train[1]:\n",
    "    count += 1\n",
    "    print(count)\n",
    "    print(element.numpy().shape)\n",
    "    if len(element.numpy()) < 32:\n",
    "        break\n",
    "    if count == 1:\n",
    "        train_label = element.numpy()\n",
    "    else:\n",
    "        train_label = np.append(train_label, element.numpy(), axis=0)"
   ]
  },
  {
   "cell_type": "code",
   "execution_count": 13,
   "metadata": {},
   "outputs": [
    {
     "output_type": "execute_result",
     "data": {
      "text/plain": [
       "(288, 1, 1)"
      ]
     },
     "metadata": {},
     "execution_count": 13
    }
   ],
   "source": [
    "train_label.shape"
   ]
  },
  {
   "cell_type": "code",
   "execution_count": 14,
   "metadata": {},
   "outputs": [],
   "source": [
    "### main model ###\n",
    "# linear module\n",
    "linear_input = tf.keras.Input(shape=(single_step_window.example[0].shape[1:]), batch_size=single_step_window.example[0].shape[0])  # batch 32 input shape = 24,6\n",
    "x = tf.keras.layers.Flatten()(linear_input)\n",
    "x = tf.keras.layers.Dense(units=64, activation='relu')(x)\n",
    "x = tf.keras.layers.Dense(units=64, activation='relu')(x)\n",
    "x = tf.keras.layers.Dense(units=1, activation='relu')(x)\n",
    "linear_model = tf.keras.Model(inputs=linear_input, outputs=x)  # output = 32,1\n",
    "\n",
    "# lstm module\n",
    "lstm_input = tf.keras.Input(shape=(single_step_window.example[0].shape[1:]), batch_size=single_step_window.example[0].shape[0])\n",
    "y = tf.keras.layers.LSTM(32, return_sequences=False)(lstm_input)\n",
    "y = tf.keras.layers.Dense(units=1, activation='relu')(y)\n",
    "lstm_model = tf.keras.Model(inputs=lstm_input, outputs=y)  # output = 32,1\n",
    "\n",
    "# intersection\n",
    "z = tf.keras.layers.concatenate([linear_model.output, lstm_model.output])\n",
    "z = tf.keras.layers.Dense(units=64, activation='relu')(z)\n",
    "z = tf.keras.layers.Dense(units=1, activation='relu')(z)\n",
    "comb_model = tf.keras.Model(inputs=[linear_input, lstm_input], outputs=[z])\n",
    "\n",
    "\n",
    "# training setting\n",
    "\n",
    "MAX_EPOCHS = 20\n",
    "\n",
    "def compile_and_fit(model, window, patience=2):\n",
    "  early_stopping = tf.keras.callbacks.EarlyStopping(monitor='val_loss',\n",
    "                                                    patience=patience,\n",
    "                                                    mode='min')\n",
    "\n",
    "  model.compile(loss=tf.losses.MeanSquaredError(),\n",
    "                optimizer=tf.optimizers.Adam(),\n",
    "                metrics=[tf.metrics.MeanAbsoluteError()])\n",
    "\n",
    "  history = model.fit(window.train, epochs=MAX_EPOCHS,\n",
    "                      validation_data=window.val,\n",
    "                      callbacks=[early_stopping])\n",
    "  return history"
   ]
  },
  {
   "cell_type": "code",
   "execution_count": 15,
   "metadata": {},
   "outputs": [
    {
     "output_type": "stream",
     "name": "stdout",
     "text": [
      "('Failed to import pydot. You must `pip install pydot` and install graphviz (https://graphviz.gitlab.io/download/), ', 'for `pydotprint` to work.')\n"
     ]
    }
   ],
   "source": [
    "# tf.keras.utils.plot_model(comb_model, \"multi_input_and_output_model.png\", show_shapes=True)"
   ]
  },
  {
   "cell_type": "code",
   "execution_count": null,
   "metadata": {},
   "outputs": [],
   "source": [
    "early_stopping = tf.keras.callbacks.EarlyStopping(monitor='val_loss',\n",
    "                                                patience=2,\n",
    "                                                mode='min')\n",
    "comb_model.compile(loss=tf.losses.MeanSquaredError(),\n",
    "                optimizer=tf.optimizers.Adam(),\n",
    "                metrics=[tf.metrics.MeanAbsoluteError()])\n",
    "comb_model.summary()\n",
    "comb_model.fit([train_input, train_input], [train_label], epochs=MAX_EPOCHS )\n",
    "\n",
    "# define val data"
   ]
  },
  {
   "cell_type": "code",
   "execution_count": null,
   "metadata": {},
   "outputs": [],
   "source": [
    "history = compile_and_fit(comb_model, single_step_window)\n",
    "# linear.summary()\n",
    "val_performance = {}\n",
    "performance = {}\n",
    "val_performance['Linear'] = comb_model.evaluate(single_step_window.val)\n",
    "performance['Linear'] = comb_model.evaluate(single_step_window.test, verbose=0)"
   ]
  },
  {
   "cell_type": "code",
   "execution_count": null,
   "metadata": {},
   "outputs": [],
   "source": [
    "single_step_window.plot(linear, max_subplots=2)"
   ]
  },
  {
   "cell_type": "code",
   "execution_count": null,
   "metadata": {},
   "outputs": [],
   "source": [
    "linear.summary()"
   ]
  },
  {
   "cell_type": "code",
   "execution_count": null,
   "metadata": {},
   "outputs": [],
   "source": [
    "plt.bar(x = range(len(train_df.columns)),\n",
    "        height=lstm_model.layers[0].kernel[:,0].numpy())\n",
    "axis = plt.gca()\n",
    "axis.set_xticks(range(len(train_df.columns)))\n",
    "_ = axis.set_xticklabels(train_df.columns, rotation=90)"
   ]
  },
  {
   "cell_type": "code",
   "execution_count": null,
   "metadata": {},
   "outputs": [],
   "source": [
    "print('Input shape:', wide_window.example[0].shape)\n",
    "print('Output shape:', linear(wide_window.example[0]).shape)"
   ]
  },
  {
   "cell_type": "code",
   "execution_count": null,
   "metadata": {},
   "outputs": [],
   "source": []
  }
 ]
}