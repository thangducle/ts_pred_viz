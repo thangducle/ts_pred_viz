{
 "metadata": {
  "language_info": {
   "codemirror_mode": {
    "name": "ipython",
    "version": 3
   },
   "file_extension": ".py",
   "mimetype": "text/x-python",
   "name": "python",
   "nbconvert_exporter": "python",
   "pygments_lexer": "ipython3",
   "version": "3.7.8"
  },
  "orig_nbformat": 2,
  "kernelspec": {
   "name": "python37564bita46a4a11000847309cdd4e52c21c0e11",
   "display_name": "Python 3.7.8 64-bit"
  },
  "metadata": {
   "interpreter": {
    "hash": "57baa5815c940fdaff4d14510622de9616cae602444507ba5d0b6727c008cbd6"
   }
  }
 },
 "nbformat": 4,
 "nbformat_minor": 2,
 "cells": [
  {
   "cell_type": "code",
   "execution_count": 1,
   "metadata": {},
   "outputs": [],
   "source": [
    "%load_ext autoreload\n",
    "%autoreload 2\n",
    "\n",
    "from binance.client import Client\n",
    "import os\n",
    "import datetime\n",
    "import numpy as np\n",
    "import pandas as pd\n",
    "import seaborn as sns\n",
    "import tensorflow as tf\n",
    "\n",
    "from datetime import datetime\n",
    "from libs import *\n",
    "from utils import *\n",
    "\n",
    "with open(\"C:\\\\Users\\\\thang\\\\OneDrive\\\\Documents\\\\binance_cres\\\\api_key.txt\") as api_file:\n",
    "    api_key = api_file.readline()\n",
    "with open(\"C:\\\\Users\\\\thang\\\\OneDrive\\\\Documents\\\\binance_cres\\\\sec_key.txt\") as api_file:\n",
    "    api_secret = api_file.readline()\n",
    "# make binance object\n",
    "client = Client(api_key, api_secret)\n",
    "\n",
    "# Parameters\n",
    "target_coin = 'ETCUSDT'\n",
    "BATCH_SIZE = 32\n"
   ]
  },
  {
   "cell_type": "code",
   "execution_count": 2,
   "metadata": {},
   "outputs": [
    {
     "output_type": "stream",
     "name": "stderr",
     "text": [
      "C:\\Program Files (x86)\\Microsoft Visual Studio\\Shared\\Python37_64\\lib\\site-packages\\pandas\\core\\generic.py:5494: SettingWithCopyWarning: \nA value is trying to be set on a copy of a slice from a DataFrame.\nTry using .loc[row_indexer,col_indexer] = value instead\n\nSee the caveats in the documentation: https://pandas.pydata.org/pandas-docs/stable/user_guide/indexing.html#returning-a-view-versus-a-copy\n  self[name] = value\nc:\\Users\\thang\\Documents\\pred_coin_price\\ts_pred_viz\\utils.py:12: SettingWithCopyWarning: \nA value is trying to be set on a copy of a slice from a DataFrame.\nTry using .loc[row_indexer,col_indexer] = value instead\n\nSee the caveats in the documentation: https://pandas.pydata.org/pandas-docs/stable/user_guide/indexing.html#returning-a-view-versus-a-copy\n  df['Day sin'] = np.sin(date_time * (2 * np.pi / day))\nc:\\Users\\thang\\Documents\\pred_coin_price\\ts_pred_viz\\utils.py:13: SettingWithCopyWarning: \nA value is trying to be set on a copy of a slice from a DataFrame.\nTry using .loc[row_indexer,col_indexer] = value instead\n\nSee the caveats in the documentation: https://pandas.pydata.org/pandas-docs/stable/user_guide/indexing.html#returning-a-view-versus-a-copy\n  df['Day cos'] = np.cos(date_time * (2 * np.pi / day))\nc:\\Users\\thang\\Documents\\pred_coin_price\\ts_pred_viz\\utils.py:14: SettingWithCopyWarning: \nA value is trying to be set on a copy of a slice from a DataFrame.\nTry using .loc[row_indexer,col_indexer] = value instead\n\nSee the caveats in the documentation: https://pandas.pydata.org/pandas-docs/stable/user_guide/indexing.html#returning-a-view-versus-a-copy\n  df['Year sin'] = np.sin(date_time * (2 * np.pi / year))\nc:\\Users\\thang\\Documents\\pred_coin_price\\ts_pred_viz\\utils.py:15: SettingWithCopyWarning: \nA value is trying to be set on a copy of a slice from a DataFrame.\nTry using .loc[row_indexer,col_indexer] = value instead\n\nSee the caveats in the documentation: https://pandas.pydata.org/pandas-docs/stable/user_guide/indexing.html#returning-a-view-versus-a-copy\n  df['Year cos'] = np.cos(date_time * (2 * np.pi / year))\n"
     ]
    }
   ],
   "source": [
    "avg_data = client.get_klines(symbol=target_coin, interval=Client.KLINE_INTERVAL_30MINUTE)\n",
    "cols = ['open_time',  # Open time\n",
    "            'open',  # Open\n",
    "            'high',  # High\n",
    "            'low',  # Low\n",
    "            'close',  # Close\n",
    "            'vol',  # Volume\n",
    "            'close_time',  # Close time\n",
    "            'quote_ass_vol',  # Quote asset volume\n",
    "            'no_trade',  # Number of trades\n",
    "            'base_ass_vol',  # Taker buy base asset volume\n",
    "            'qoute_ass_vol',  # Taker buy quote asset volume\n",
    "            'ignore']   # Can be ignored\n",
    "df = pd.DataFrame(avg_data, \n",
    "    columns = cols)\n",
    "\n",
    "important_features_df = df[['close','close_time','vol']]  # get important features\n",
    "important_features_df.close_time = important_features_df.close_time.apply(lambda x: x/1000)  # convert milisecond to second\n",
    "important_features_df = data_converter(important_features_df)  # conver time data to sequence vector"
   ]
  },
  {
   "cell_type": "code",
   "execution_count": 3,
   "metadata": {},
   "outputs": [
    {
     "output_type": "execute_result",
     "data": {
      "text/plain": [
       "            close            vol       Day sin       Day cos    Year sin  \\\n",
       "count  500.000000     500.000000  5.000000e+02  5.000000e+02  500.000000   \n",
       "mean    66.366516   61933.896646  2.220755e-02 -1.947549e-02    0.487191   \n",
       "std      2.550755   53221.262041  7.078198e-01  7.071923e-01    0.045169   \n",
       "min     60.678000    7836.885000 -1.000000e+00 -1.000000e+00    0.407942   \n",
       "25%     64.101750   27571.309750 -7.071067e-01 -7.071068e-01    0.448341   \n",
       "50%     66.531000   47694.745500  7.272505e-08 -7.272298e-08    0.487844   \n",
       "75%     68.344750   77130.966500  7.071068e-01  7.071067e-01    0.526371   \n",
       "max     77.847000  466494.895000  1.000000e+00  1.000000e+00    0.563847   \n",
       "\n",
       "         Year cos  \n",
       "count  500.000000  \n",
       "mean    -0.871763  \n",
       "std      0.025262  \n",
       "min     -0.913008  \n",
       "25%     -0.893863  \n",
       "50%     -0.872931  \n",
       "75%     -0.850255  \n",
       "max     -0.825879  "
      ],
      "text/html": "<div>\n<style scoped>\n    .dataframe tbody tr th:only-of-type {\n        vertical-align: middle;\n    }\n\n    .dataframe tbody tr th {\n        vertical-align: top;\n    }\n\n    .dataframe thead th {\n        text-align: right;\n    }\n</style>\n<table border=\"1\" class=\"dataframe\">\n  <thead>\n    <tr style=\"text-align: right;\">\n      <th></th>\n      <th>close</th>\n      <th>vol</th>\n      <th>Day sin</th>\n      <th>Day cos</th>\n      <th>Year sin</th>\n      <th>Year cos</th>\n    </tr>\n  </thead>\n  <tbody>\n    <tr>\n      <th>count</th>\n      <td>500.000000</td>\n      <td>500.000000</td>\n      <td>5.000000e+02</td>\n      <td>5.000000e+02</td>\n      <td>500.000000</td>\n      <td>500.000000</td>\n    </tr>\n    <tr>\n      <th>mean</th>\n      <td>66.366516</td>\n      <td>61933.896646</td>\n      <td>2.220755e-02</td>\n      <td>-1.947549e-02</td>\n      <td>0.487191</td>\n      <td>-0.871763</td>\n    </tr>\n    <tr>\n      <th>std</th>\n      <td>2.550755</td>\n      <td>53221.262041</td>\n      <td>7.078198e-01</td>\n      <td>7.071923e-01</td>\n      <td>0.045169</td>\n      <td>0.025262</td>\n    </tr>\n    <tr>\n      <th>min</th>\n      <td>60.678000</td>\n      <td>7836.885000</td>\n      <td>-1.000000e+00</td>\n      <td>-1.000000e+00</td>\n      <td>0.407942</td>\n      <td>-0.913008</td>\n    </tr>\n    <tr>\n      <th>25%</th>\n      <td>64.101750</td>\n      <td>27571.309750</td>\n      <td>-7.071067e-01</td>\n      <td>-7.071068e-01</td>\n      <td>0.448341</td>\n      <td>-0.893863</td>\n    </tr>\n    <tr>\n      <th>50%</th>\n      <td>66.531000</td>\n      <td>47694.745500</td>\n      <td>7.272505e-08</td>\n      <td>-7.272298e-08</td>\n      <td>0.487844</td>\n      <td>-0.872931</td>\n    </tr>\n    <tr>\n      <th>75%</th>\n      <td>68.344750</td>\n      <td>77130.966500</td>\n      <td>7.071068e-01</td>\n      <td>7.071067e-01</td>\n      <td>0.526371</td>\n      <td>-0.850255</td>\n    </tr>\n    <tr>\n      <th>max</th>\n      <td>77.847000</td>\n      <td>466494.895000</td>\n      <td>1.000000e+00</td>\n      <td>1.000000e+00</td>\n      <td>0.563847</td>\n      <td>-0.825879</td>\n    </tr>\n  </tbody>\n</table>\n</div>"
     },
     "metadata": {},
     "execution_count": 3
    }
   ],
   "source": [
    "important_features_df.describe()"
   ]
  },
  {
   "cell_type": "code",
   "execution_count": 4,
   "metadata": {},
   "outputs": [],
   "source": [
    "# data splitting\n",
    "# column_indices = {name: i for i, name in enumerate(important_features_df.columns)}\n",
    "\n",
    "n = len(important_features_df)\n",
    "train_df = important_features_df[0:int(n*0.7)]  # 70% train data\n",
    "val_df = important_features_df[int(n*0.7):int(n*0.9)]  # 20% val data\n",
    "test_df = important_features_df[int(n*0.9):]  # 10% test data\n",
    "\n",
    "num_features = important_features_df.shape[1]  # number of features"
   ]
  },
  {
   "cell_type": "code",
   "execution_count": 5,
   "metadata": {},
   "outputs": [],
   "source": [
    "# normalization\n",
    "train_mean = train_df.mean()\n",
    "train_std = train_df.std()\n",
    "\n",
    "# normalize base on train_data distribution\n",
    "train_df = (train_df - train_mean) / train_std\n",
    "val_df = (val_df - train_mean) / train_std\n",
    "test_df = (test_df - train_mean) / train_std\n"
   ]
  },
  {
   "cell_type": "code",
   "execution_count": 40,
   "metadata": {},
   "outputs": [],
   "source": [
    "time_predictors = 10  # number of historical data as predictor\n",
    "time_shift = 1  # number of timestamp to target\n",
    "label_width = 1  # number of predicting timestamp"
   ]
  },
  {
   "cell_type": "code",
   "execution_count": 41,
   "metadata": {},
   "outputs": [
    {
     "output_type": "execute_result",
     "data": {
      "text/plain": [
       "Total window size: 11\n",
       "Input indices: [0 1 2 3 4 5 6 7 8 9]\n",
       "Label indices: [10]\n",
       "Label column name(s): ['close']"
      ]
     },
     "metadata": {},
     "execution_count": 41
    }
   ],
   "source": [
    "# prepare data\n",
    "single_step_window = WindowGenerator(\n",
    "    input_width=time_predictors, label_width=label_width, shift=time_shift, train_df=train_df, val_df=val_df, test_df=test_df, label_columns=['close'])\n",
    "single_step_window"
   ]
  },
  {
   "cell_type": "code",
   "execution_count": 42,
   "metadata": {
    "tags": []
   },
   "outputs": [],
   "source": [
    "count = 0\n",
    "for element in single_step_window.train[0]:\n",
    "    count += 1\n",
    "    # print(count)\n",
    "    # print(element.numpy().shape)\n",
    "    if len(element.numpy()) < BATCH_SIZE:\n",
    "        break\n",
    "    if count == 1:\n",
    "        train_input = element.numpy()\n",
    "    else:\n",
    "        train_input = np.append(train_input, element.numpy(), axis=0)"
   ]
  },
  {
   "cell_type": "code",
   "execution_count": 43,
   "metadata": {},
   "outputs": [],
   "source": [
    "count = 0\n",
    "for element in single_step_window.train[1]:\n",
    "    count += 1\n",
    "    # print(count)\n",
    "    # print(element.numpy().shape)\n",
    "    if len(element.numpy()) < BATCH_SIZE:\n",
    "        break\n",
    "    if count == 1:\n",
    "        train_label = element.numpy()\n",
    "    else:\n",
    "        train_label = np.append(train_label, element.numpy(), axis=0)"
   ]
  },
  {
   "cell_type": "code",
   "execution_count": 44,
   "metadata": {},
   "outputs": [
    {
     "output_type": "execute_result",
     "data": {
      "text/plain": [
       "(320, 10, 6)"
      ]
     },
     "metadata": {},
     "execution_count": 44
    }
   ],
   "source": [
    "train_input.shape"
   ]
  },
  {
   "cell_type": "code",
   "execution_count": 45,
   "metadata": {},
   "outputs": [
    {
     "output_type": "execute_result",
     "data": {
      "text/plain": [
       "(320, 1, 1)"
      ]
     },
     "metadata": {},
     "execution_count": 45
    }
   ],
   "source": [
    "train_label.shape"
   ]
  },
  {
   "cell_type": "code",
   "execution_count": 46,
   "metadata": {},
   "outputs": [],
   "source": [
    "### main model ###\n",
    "# linear module\n",
    "linear_input = tf.keras.Input(shape=(single_step_window.example[0].shape[1:]), batch_size=BATCH_SIZE)  # batch 32 input shape = 24,6\n",
    "x = tf.keras.layers.Flatten()(linear_input)\n",
    "x = tf.keras.layers.Dense(units=128, activation='relu')(x)\n",
    "x = tf.keras.layers.Dense(units=64, activation='relu')(x)\n",
    "x = tf.keras.layers.Dense(units=1, activation='relu')(x)\n",
    "linear_model = tf.keras.Model(inputs=linear_input, outputs=x)  # output = 32,1\n",
    "\n",
    "# lstm module\n",
    "lstm_input = tf.keras.Input(shape=(single_step_window.example[0].shape[1:]), batch_size=BATCH_SIZE)\n",
    "y = tf.keras.layers.LSTM(32, return_sequences=False)(lstm_input)\n",
    "y = tf.keras.layers.Dense(units=1, activation='relu')(y)\n",
    "lstm_model = tf.keras.Model(inputs=lstm_input, outputs=y)  # output = 32,1\n",
    "\n",
    "# intersection\n",
    "z = tf.keras.layers.concatenate([linear_model.output, lstm_model.output])\n",
    "z = tf.keras.layers.Dense(units=64, activation='relu')(z)\n",
    "z = tf.keras.layers.Dense(units=1, activation='relu')(z)\n",
    "comb_model = tf.keras.Model(inputs=[linear_input, lstm_input], outputs=[z])\n",
    "\n",
    "\n",
    "# training setting\n",
    "MAX_EPOCHS = 100\n",
    "\n",
    "def compile_and_fit(model, train_input, train_label, patience=2):\n",
    "  early_stopping = tf.keras.callbacks.EarlyStopping(monitor='val_loss',\n",
    "                                                  patience=2,\n",
    "                                                  mode='min')\n",
    "  model.compile(loss=tf.losses.MeanSquaredError(),\n",
    "                  optimizer=tf.optimizers.Adam(),\n",
    "                  metrics=[tf.metrics.MeanAbsoluteError()])\n",
    "  model.summary()\n",
    "\n",
    "  history = comb_model.fit([train_input, train_input], [train_label], epochs=MAX_EPOCHS )\n",
    "  return history"
   ]
  },
  {
   "cell_type": "code",
   "execution_count": 47,
   "metadata": {},
   "outputs": [],
   "source": [
    "# tf.keras.utils.plot_model(comb_model, \"multi_input_and_output_model.png\", show_shapes=True)"
   ]
  },
  {
   "cell_type": "code",
   "execution_count": 48,
   "metadata": {},
   "outputs": [
    {
     "output_type": "stream",
     "name": "stdout",
     "text": [
      "Model: \"functional_17\"\n",
      "__________________________________________________________________________________________________\n",
      "Layer (type)                    Output Shape         Param #     Connected to                     \n",
      "==================================================================================================\n",
      "input_5 (InputLayer)            [(32, 10, 6)]        0                                            \n",
      "__________________________________________________________________________________________________\n",
      "flatten_2 (Flatten)             (32, 60)             0           input_5[0][0]                    \n",
      "__________________________________________________________________________________________________\n",
      "dense_12 (Dense)                (32, 128)            7808        flatten_2[0][0]                  \n",
      "__________________________________________________________________________________________________\n",
      "input_6 (InputLayer)            [(32, 10, 6)]        0                                            \n",
      "__________________________________________________________________________________________________\n",
      "dense_13 (Dense)                (32, 64)             8256        dense_12[0][0]                   \n",
      "__________________________________________________________________________________________________\n",
      "lstm_2 (LSTM)                   (32, 32)             4992        input_6[0][0]                    \n",
      "__________________________________________________________________________________________________\n",
      "dense_14 (Dense)                (32, 1)              65          dense_13[0][0]                   \n",
      "__________________________________________________________________________________________________\n",
      "dense_15 (Dense)                (32, 1)              33          lstm_2[0][0]                     \n",
      "__________________________________________________________________________________________________\n",
      "concatenate_2 (Concatenate)     (32, 2)              0           dense_14[0][0]                   \n",
      "                                                                 dense_15[0][0]                   \n",
      "__________________________________________________________________________________________________\n",
      "dense_16 (Dense)                (32, 64)             192         concatenate_2[0][0]              \n",
      "__________________________________________________________________________________________________\n",
      "dense_17 (Dense)                (32, 1)              65          dense_16[0][0]                   \n",
      "==================================================================================================\n",
      "Total params: 21,411\n",
      "Trainable params: 21,411\n",
      "Non-trainable params: 0\n",
      "__________________________________________________________________________________________________\n",
      "Epoch 1/100\n",
      "10/10 [==============================] - 0s 3ms/step - loss: 0.8176 - mean_absolute_error: 0.7049\n",
      "Epoch 2/100\n",
      "10/10 [==============================] - 0s 2ms/step - loss: 0.8168 - mean_absolute_error: 0.7044\n",
      "Epoch 3/100\n",
      "10/10 [==============================] - 0s 2ms/step - loss: 0.8168 - mean_absolute_error: 0.7044\n",
      "Epoch 4/100\n",
      "10/10 [==============================] - 0s 2ms/step - loss: 0.8168 - mean_absolute_error: 0.7044\n",
      "Epoch 5/100\n",
      "10/10 [==============================] - 0s 2ms/step - loss: 0.8168 - mean_absolute_error: 0.7044\n",
      "Epoch 6/100\n",
      "10/10 [==============================] - 0s 2ms/step - loss: 0.8168 - mean_absolute_error: 0.7044\n",
      "Epoch 7/100\n",
      "10/10 [==============================] - 0s 2ms/step - loss: 0.8168 - mean_absolute_error: 0.7044\n",
      "Epoch 8/100\n",
      "10/10 [==============================] - 0s 2ms/step - loss: 0.8168 - mean_absolute_error: 0.7044\n",
      "Epoch 9/100\n",
      "10/10 [==============================] - 0s 2ms/step - loss: 0.8168 - mean_absolute_error: 0.7044\n",
      "Epoch 10/100\n",
      "10/10 [==============================] - 0s 2ms/step - loss: 0.8168 - mean_absolute_error: 0.7044\n",
      "Epoch 11/100\n",
      "10/10 [==============================] - 0s 2ms/step - loss: 0.8168 - mean_absolute_error: 0.7044\n",
      "Epoch 12/100\n",
      "10/10 [==============================] - 0s 2ms/step - loss: 0.8168 - mean_absolute_error: 0.7044\n",
      "Epoch 13/100\n",
      "10/10 [==============================] - 0s 2ms/step - loss: 0.8168 - mean_absolute_error: 0.7044\n",
      "Epoch 14/100\n",
      "10/10 [==============================] - 0s 2ms/step - loss: 0.8168 - mean_absolute_error: 0.7044\n",
      "Epoch 15/100\n",
      "10/10 [==============================] - 0s 2ms/step - loss: 0.8168 - mean_absolute_error: 0.7044\n",
      "Epoch 16/100\n",
      "10/10 [==============================] - 0s 2ms/step - loss: 0.8168 - mean_absolute_error: 0.7044\n",
      "Epoch 17/100\n",
      "10/10 [==============================] - 0s 2ms/step - loss: 0.8168 - mean_absolute_error: 0.7044\n",
      "Epoch 18/100\n",
      "10/10 [==============================] - 0s 2ms/step - loss: 0.8168 - mean_absolute_error: 0.7044\n",
      "Epoch 19/100\n",
      "10/10 [==============================] - 0s 2ms/step - loss: 0.8168 - mean_absolute_error: 0.7044\n",
      "Epoch 20/100\n",
      "10/10 [==============================] - 0s 2ms/step - loss: 0.8168 - mean_absolute_error: 0.7044\n",
      "Epoch 21/100\n",
      "10/10 [==============================] - 0s 2ms/step - loss: 0.8168 - mean_absolute_error: 0.7044\n",
      "Epoch 22/100\n",
      "10/10 [==============================] - 0s 2ms/step - loss: 0.8168 - mean_absolute_error: 0.7044\n",
      "Epoch 23/100\n",
      "10/10 [==============================] - 0s 2ms/step - loss: 0.8168 - mean_absolute_error: 0.7044\n",
      "Epoch 24/100\n",
      "10/10 [==============================] - 0s 2ms/step - loss: 0.8168 - mean_absolute_error: 0.7044\n",
      "Epoch 25/100\n",
      "10/10 [==============================] - 0s 2ms/step - loss: 0.8168 - mean_absolute_error: 0.7044\n",
      "Epoch 26/100\n",
      "10/10 [==============================] - 0s 2ms/step - loss: 0.8168 - mean_absolute_error: 0.7044\n",
      "Epoch 27/100\n",
      "10/10 [==============================] - 0s 2ms/step - loss: 0.8168 - mean_absolute_error: 0.7044\n",
      "Epoch 28/100\n",
      "10/10 [==============================] - 0s 2ms/step - loss: 0.8168 - mean_absolute_error: 0.7044\n",
      "Epoch 29/100\n",
      "10/10 [==============================] - 0s 2ms/step - loss: 0.8168 - mean_absolute_error: 0.7044\n",
      "Epoch 30/100\n",
      "10/10 [==============================] - 0s 2ms/step - loss: 0.8168 - mean_absolute_error: 0.7044\n",
      "Epoch 31/100\n",
      "10/10 [==============================] - 0s 2ms/step - loss: 0.8168 - mean_absolute_error: 0.7044\n",
      "Epoch 32/100\n",
      "10/10 [==============================] - 0s 2ms/step - loss: 0.8168 - mean_absolute_error: 0.7044\n",
      "Epoch 33/100\n",
      "10/10 [==============================] - 0s 3ms/step - loss: 0.8168 - mean_absolute_error: 0.7044\n",
      "Epoch 34/100\n",
      "10/10 [==============================] - 0s 2ms/step - loss: 0.8168 - mean_absolute_error: 0.7044\n",
      "Epoch 35/100\n",
      "10/10 [==============================] - 0s 2ms/step - loss: 0.8168 - mean_absolute_error: 0.7044\n",
      "Epoch 36/100\n",
      "10/10 [==============================] - 0s 2ms/step - loss: 0.8168 - mean_absolute_error: 0.7044\n",
      "Epoch 37/100\n",
      "10/10 [==============================] - 0s 2ms/step - loss: 0.8168 - mean_absolute_error: 0.7044\n",
      "Epoch 38/100\n",
      "10/10 [==============================] - 0s 2ms/step - loss: 0.8168 - mean_absolute_error: 0.7044\n",
      "Epoch 39/100\n",
      "10/10 [==============================] - 0s 2ms/step - loss: 0.8168 - mean_absolute_error: 0.7044\n",
      "Epoch 40/100\n",
      "10/10 [==============================] - 0s 2ms/step - loss: 0.8168 - mean_absolute_error: 0.7044\n",
      "Epoch 41/100\n",
      "10/10 [==============================] - 0s 2ms/step - loss: 0.8168 - mean_absolute_error: 0.7044\n",
      "Epoch 42/100\n",
      "10/10 [==============================] - 0s 2ms/step - loss: 0.8168 - mean_absolute_error: 0.7044\n",
      "Epoch 43/100\n",
      "10/10 [==============================] - 0s 2ms/step - loss: 0.8168 - mean_absolute_error: 0.7044\n",
      "Epoch 44/100\n",
      "10/10 [==============================] - 0s 2ms/step - loss: 0.8168 - mean_absolute_error: 0.7044\n",
      "Epoch 45/100\n",
      "10/10 [==============================] - 0s 2ms/step - loss: 0.8168 - mean_absolute_error: 0.7044\n",
      "Epoch 46/100\n",
      "10/10 [==============================] - 0s 2ms/step - loss: 0.8168 - mean_absolute_error: 0.7044\n",
      "Epoch 47/100\n",
      "10/10 [==============================] - 0s 2ms/step - loss: 0.8168 - mean_absolute_error: 0.7044\n",
      "Epoch 48/100\n",
      "10/10 [==============================] - 0s 2ms/step - loss: 0.8168 - mean_absolute_error: 0.7044\n",
      "Epoch 49/100\n",
      "10/10 [==============================] - 0s 2ms/step - loss: 0.8168 - mean_absolute_error: 0.7044\n",
      "Epoch 50/100\n",
      "10/10 [==============================] - 0s 2ms/step - loss: 0.8168 - mean_absolute_error: 0.7044\n",
      "Epoch 51/100\n",
      "10/10 [==============================] - 0s 2ms/step - loss: 0.8168 - mean_absolute_error: 0.7044\n",
      "Epoch 52/100\n",
      "10/10 [==============================] - 0s 2ms/step - loss: 0.8168 - mean_absolute_error: 0.7044\n",
      "Epoch 53/100\n",
      "10/10 [==============================] - 0s 2ms/step - loss: 0.8168 - mean_absolute_error: 0.7044\n",
      "Epoch 54/100\n",
      "10/10 [==============================] - 0s 2ms/step - loss: 0.8168 - mean_absolute_error: 0.7044\n",
      "Epoch 55/100\n",
      "10/10 [==============================] - 0s 2ms/step - loss: 0.8168 - mean_absolute_error: 0.7044\n",
      "Epoch 56/100\n",
      "10/10 [==============================] - 0s 2ms/step - loss: 0.8168 - mean_absolute_error: 0.7044\n",
      "Epoch 57/100\n",
      "10/10 [==============================] - 0s 2ms/step - loss: 0.8168 - mean_absolute_error: 0.7044\n",
      "Epoch 58/100\n",
      "10/10 [==============================] - 0s 2ms/step - loss: 0.8168 - mean_absolute_error: 0.7044\n",
      "Epoch 59/100\n",
      "10/10 [==============================] - 0s 2ms/step - loss: 0.8168 - mean_absolute_error: 0.7044\n",
      "Epoch 60/100\n",
      "10/10 [==============================] - 0s 2ms/step - loss: 0.8168 - mean_absolute_error: 0.7044\n",
      "Epoch 61/100\n",
      "10/10 [==============================] - 0s 2ms/step - loss: 0.8168 - mean_absolute_error: 0.7044\n",
      "Epoch 62/100\n",
      "10/10 [==============================] - 0s 2ms/step - loss: 0.8168 - mean_absolute_error: 0.7044\n",
      "Epoch 63/100\n",
      "10/10 [==============================] - 0s 2ms/step - loss: 0.8168 - mean_absolute_error: 0.7044\n",
      "Epoch 64/100\n",
      "10/10 [==============================] - 0s 2ms/step - loss: 0.8168 - mean_absolute_error: 0.7044\n",
      "Epoch 65/100\n",
      "10/10 [==============================] - 0s 2ms/step - loss: 0.8168 - mean_absolute_error: 0.7044\n",
      "Epoch 66/100\n",
      "10/10 [==============================] - 0s 2ms/step - loss: 0.8168 - mean_absolute_error: 0.7044\n",
      "Epoch 67/100\n",
      "10/10 [==============================] - 0s 2ms/step - loss: 0.8168 - mean_absolute_error: 0.7044\n",
      "Epoch 68/100\n",
      "10/10 [==============================] - 0s 2ms/step - loss: 0.8168 - mean_absolute_error: 0.7044\n",
      "Epoch 69/100\n",
      "10/10 [==============================] - 0s 2ms/step - loss: 0.8168 - mean_absolute_error: 0.7044\n",
      "Epoch 70/100\n",
      "10/10 [==============================] - 0s 2ms/step - loss: 0.8168 - mean_absolute_error: 0.7044\n",
      "Epoch 71/100\n",
      "10/10 [==============================] - 0s 2ms/step - loss: 0.8168 - mean_absolute_error: 0.7044\n",
      "Epoch 72/100\n",
      "10/10 [==============================] - 0s 2ms/step - loss: 0.8168 - mean_absolute_error: 0.7044\n",
      "Epoch 73/100\n",
      "10/10 [==============================] - 0s 2ms/step - loss: 0.8168 - mean_absolute_error: 0.7044\n",
      "Epoch 74/100\n",
      "10/10 [==============================] - 0s 2ms/step - loss: 0.8168 - mean_absolute_error: 0.7044\n",
      "Epoch 75/100\n",
      "10/10 [==============================] - 0s 2ms/step - loss: 0.8168 - mean_absolute_error: 0.7044\n",
      "Epoch 76/100\n",
      "10/10 [==============================] - 0s 2ms/step - loss: 0.8168 - mean_absolute_error: 0.7044\n",
      "Epoch 77/100\n",
      "10/10 [==============================] - 0s 2ms/step - loss: 0.8168 - mean_absolute_error: 0.7044\n",
      "Epoch 78/100\n",
      "10/10 [==============================] - 0s 2ms/step - loss: 0.8168 - mean_absolute_error: 0.7044\n",
      "Epoch 79/100\n",
      "10/10 [==============================] - 0s 2ms/step - loss: 0.8168 - mean_absolute_error: 0.7044\n",
      "Epoch 80/100\n",
      "10/10 [==============================] - 0s 2ms/step - loss: 0.8168 - mean_absolute_error: 0.7044\n",
      "Epoch 81/100\n",
      "10/10 [==============================] - 0s 3ms/step - loss: 0.8168 - mean_absolute_error: 0.7044\n",
      "Epoch 82/100\n",
      "10/10 [==============================] - 0s 2ms/step - loss: 0.8168 - mean_absolute_error: 0.7044\n",
      "Epoch 83/100\n",
      "10/10 [==============================] - 0s 2ms/step - loss: 0.8168 - mean_absolute_error: 0.7044\n",
      "Epoch 84/100\n",
      "10/10 [==============================] - 0s 2ms/step - loss: 0.8168 - mean_absolute_error: 0.7044\n",
      "Epoch 85/100\n",
      "10/10 [==============================] - 0s 2ms/step - loss: 0.8168 - mean_absolute_error: 0.7044\n",
      "Epoch 86/100\n",
      "10/10 [==============================] - 0s 2ms/step - loss: 0.8168 - mean_absolute_error: 0.7044\n",
      "Epoch 87/100\n",
      "10/10 [==============================] - 0s 2ms/step - loss: 0.8168 - mean_absolute_error: 0.7044\n",
      "Epoch 88/100\n",
      "10/10 [==============================] - 0s 2ms/step - loss: 0.8168 - mean_absolute_error: 0.7044\n",
      "Epoch 89/100\n",
      "10/10 [==============================] - 0s 2ms/step - loss: 0.8168 - mean_absolute_error: 0.7044\n",
      "Epoch 90/100\n",
      "10/10 [==============================] - 0s 2ms/step - loss: 0.8168 - mean_absolute_error: 0.7044\n",
      "Epoch 91/100\n",
      "10/10 [==============================] - 0s 2ms/step - loss: 0.8168 - mean_absolute_error: 0.7044\n",
      "Epoch 92/100\n",
      "10/10 [==============================] - 0s 2ms/step - loss: 0.8168 - mean_absolute_error: 0.7044\n",
      "Epoch 93/100\n",
      "10/10 [==============================] - 0s 2ms/step - loss: 0.8168 - mean_absolute_error: 0.7044\n",
      "Epoch 94/100\n",
      "10/10 [==============================] - 0s 2ms/step - loss: 0.8168 - mean_absolute_error: 0.7044\n",
      "Epoch 95/100\n",
      "10/10 [==============================] - 0s 2ms/step - loss: 0.8168 - mean_absolute_error: 0.7044\n",
      "Epoch 96/100\n",
      "10/10 [==============================] - 0s 2ms/step - loss: 0.8168 - mean_absolute_error: 0.7044\n",
      "Epoch 97/100\n",
      "10/10 [==============================] - 0s 2ms/step - loss: 0.8168 - mean_absolute_error: 0.7044\n",
      "Epoch 98/100\n",
      "10/10 [==============================] - 0s 2ms/step - loss: 0.8168 - mean_absolute_error: 0.7044\n",
      "Epoch 99/100\n",
      "10/10 [==============================] - 0s 2ms/step - loss: 0.8168 - mean_absolute_error: 0.7044\n",
      "Epoch 100/100\n",
      "10/10 [==============================] - 0s 2ms/step - loss: 0.8168 - mean_absolute_error: 0.7044\n"
     ]
    },
    {
     "output_type": "execute_result",
     "data": {
      "text/plain": [
       "<tensorflow.python.keras.callbacks.History at 0x222255c4608>"
      ]
     },
     "metadata": {},
     "execution_count": 48
    }
   ],
   "source": [
    "compile_and_fit(comb_model, train_input, train_label)"
   ]
  },
  {
   "cell_type": "code",
   "execution_count": 49,
   "metadata": {},
   "outputs": [
    {
     "output_type": "stream",
     "name": "stdout",
     "text": [
      "10/10 [==============================] - 0s 1ms/step - loss: 0.8168 - mean_absolute_error: 0.7044\n",
      "10/10 [==============================] - 0s 1ms/step - loss: 0.8168 - mean_absolute_error: 0.7044\n"
     ]
    }
   ],
   "source": [
    "# evaluation\n",
    "val_performance = {}\n",
    "performance = {}\n",
    "val_performance['multi_modal'] = comb_model.evaluate([train_input, train_input], [train_label])\n",
    "performance['multi_modal'] = comb_model.evaluate([train_input, train_input], [train_label])"
   ]
  },
  {
   "cell_type": "code",
   "execution_count": 50,
   "metadata": {},
   "outputs": [],
   "source": [
    "pred = comb_model.predict([train_input, train_input])"
   ]
  },
  {
   "cell_type": "code",
   "execution_count": 51,
   "metadata": {},
   "outputs": [
    {
     "output_type": "execute_result",
     "data": {
      "text/plain": [
       "[<matplotlib.lines.Line2D at 0x22220dcdcc8>,\n",
       " <matplotlib.lines.Line2D at 0x22220d81908>]"
      ]
     },
     "metadata": {},
     "execution_count": 51
    },
    {
     "output_type": "display_data",
     "data": {
      "text/plain": "<Figure size 432x288 with 1 Axes>",
      "image/svg+xml": "<?xml version=\"1.0\" encoding=\"utf-8\" standalone=\"no\"?>\r\n<!DOCTYPE svg PUBLIC \"-//W3C//DTD SVG 1.1//EN\"\r\n  \"http://www.w3.org/Graphics/SVG/1.1/DTD/svg11.dtd\">\r\n<!-- Created with matplotlib (https://matplotlib.org/) -->\r\n<svg height=\"248.518125pt\" version=\"1.1\" viewBox=\"0 0 370.942187 248.518125\" width=\"370.942187pt\" xmlns=\"http://www.w3.org/2000/svg\" xmlns:xlink=\"http://www.w3.org/1999/xlink\">\r\n <metadata>\r\n  <rdf:RDF xmlns:cc=\"http://creativecommons.org/ns#\" xmlns:dc=\"http://purl.org/dc/elements/1.1/\" xmlns:rdf=\"http://www.w3.org/1999/02/22-rdf-syntax-ns#\">\r\n   <cc:Work>\r\n    <dc:type rdf:resource=\"http://purl.org/dc/dcmitype/StillImage\"/>\r\n    <dc:date>2021-06-07T22:42:03.773683</dc:date>\r\n    <dc:format>image/svg+xml</dc:format>\r\n    <dc:creator>\r\n     <cc:Agent>\r\n      <dc:title>Matplotlib v3.3.4, https://matplotlib.org/</dc:title>\r\n     </cc:Agent>\r\n    </dc:creator>\r\n   </cc:Work>\r\n  </rdf:RDF>\r\n </metadata>\r\n <defs>\r\n  <style type=\"text/css\">*{stroke-linecap:butt;stroke-linejoin:round;}</style>\r\n </defs>\r\n <g id=\"figure_1\">\r\n  <g id=\"patch_1\">\r\n   <path d=\"M 0 248.518125 \r\nL 370.942187 248.518125 \r\nL 370.942187 0 \r\nL 0 0 \r\nz\r\n\" style=\"fill:none;\"/>\r\n  </g>\r\n  <g id=\"axes_1\">\r\n   <g id=\"patch_2\">\r\n    <path d=\"M 28.942188 224.64 \r\nL 363.742188 224.64 \r\nL 363.742188 7.2 \r\nL 28.942188 7.2 \r\nz\r\n\" style=\"fill:#ffffff;\"/>\r\n   </g>\r\n   <g id=\"matplotlib.axis_1\">\r\n    <g id=\"xtick_1\">\r\n     <g id=\"line2d_1\">\r\n      <defs>\r\n       <path d=\"M 0 0 \r\nL 0 3.5 \r\n\" id=\"m015fb28d85\" style=\"stroke:#000000;stroke-width:0.8;\"/>\r\n      </defs>\r\n      <g>\r\n       <use style=\"stroke:#000000;stroke-width:0.8;\" x=\"44.160369\" xlink:href=\"#m015fb28d85\" y=\"224.64\"/>\r\n      </g>\r\n     </g>\r\n     <g id=\"text_1\">\r\n      <!-- 0 -->\r\n      <g transform=\"translate(40.979119 239.238438)scale(0.1 -0.1)\">\r\n       <defs>\r\n        <path d=\"M 31.78125 66.40625 \r\nQ 24.171875 66.40625 20.328125 58.90625 \r\nQ 16.5 51.421875 16.5 36.375 \r\nQ 16.5 21.390625 20.328125 13.890625 \r\nQ 24.171875 6.390625 31.78125 6.390625 \r\nQ 39.453125 6.390625 43.28125 13.890625 \r\nQ 47.125 21.390625 47.125 36.375 \r\nQ 47.125 51.421875 43.28125 58.90625 \r\nQ 39.453125 66.40625 31.78125 66.40625 \r\nz\r\nM 31.78125 74.21875 \r\nQ 44.046875 74.21875 50.515625 64.515625 \r\nQ 56.984375 54.828125 56.984375 36.375 \r\nQ 56.984375 17.96875 50.515625 8.265625 \r\nQ 44.046875 -1.421875 31.78125 -1.421875 \r\nQ 19.53125 -1.421875 13.0625 8.265625 \r\nQ 6.59375 17.96875 6.59375 36.375 \r\nQ 6.59375 54.828125 13.0625 64.515625 \r\nQ 19.53125 74.21875 31.78125 74.21875 \r\nz\r\n\" id=\"DejaVuSans-48\"/>\r\n       </defs>\r\n       <use xlink:href=\"#DejaVuSans-48\"/>\r\n      </g>\r\n     </g>\r\n    </g>\r\n    <g id=\"xtick_2\">\r\n     <g id=\"line2d_2\">\r\n      <g>\r\n       <use style=\"stroke:#000000;stroke-width:0.8;\" x=\"91.866268\" xlink:href=\"#m015fb28d85\" y=\"224.64\"/>\r\n      </g>\r\n     </g>\r\n     <g id=\"text_2\">\r\n      <!-- 50 -->\r\n      <g transform=\"translate(85.503768 239.238438)scale(0.1 -0.1)\">\r\n       <defs>\r\n        <path d=\"M 10.796875 72.90625 \r\nL 49.515625 72.90625 \r\nL 49.515625 64.59375 \r\nL 19.828125 64.59375 \r\nL 19.828125 46.734375 \r\nQ 21.96875 47.46875 24.109375 47.828125 \r\nQ 26.265625 48.1875 28.421875 48.1875 \r\nQ 40.625 48.1875 47.75 41.5 \r\nQ 54.890625 34.8125 54.890625 23.390625 \r\nQ 54.890625 11.625 47.5625 5.09375 \r\nQ 40.234375 -1.421875 26.90625 -1.421875 \r\nQ 22.3125 -1.421875 17.546875 -0.640625 \r\nQ 12.796875 0.140625 7.71875 1.703125 \r\nL 7.71875 11.625 \r\nQ 12.109375 9.234375 16.796875 8.0625 \r\nQ 21.484375 6.890625 26.703125 6.890625 \r\nQ 35.15625 6.890625 40.078125 11.328125 \r\nQ 45.015625 15.765625 45.015625 23.390625 \r\nQ 45.015625 31 40.078125 35.4375 \r\nQ 35.15625 39.890625 26.703125 39.890625 \r\nQ 22.75 39.890625 18.8125 39.015625 \r\nQ 14.890625 38.140625 10.796875 36.28125 \r\nz\r\n\" id=\"DejaVuSans-53\"/>\r\n       </defs>\r\n       <use xlink:href=\"#DejaVuSans-53\"/>\r\n       <use x=\"63.623047\" xlink:href=\"#DejaVuSans-48\"/>\r\n      </g>\r\n     </g>\r\n    </g>\r\n    <g id=\"xtick_3\">\r\n     <g id=\"line2d_3\">\r\n      <g>\r\n       <use style=\"stroke:#000000;stroke-width:0.8;\" x=\"139.572168\" xlink:href=\"#m015fb28d85\" y=\"224.64\"/>\r\n      </g>\r\n     </g>\r\n     <g id=\"text_3\">\r\n      <!-- 100 -->\r\n      <g transform=\"translate(130.028418 239.238438)scale(0.1 -0.1)\">\r\n       <defs>\r\n        <path d=\"M 12.40625 8.296875 \r\nL 28.515625 8.296875 \r\nL 28.515625 63.921875 \r\nL 10.984375 60.40625 \r\nL 10.984375 69.390625 \r\nL 28.421875 72.90625 \r\nL 38.28125 72.90625 \r\nL 38.28125 8.296875 \r\nL 54.390625 8.296875 \r\nL 54.390625 0 \r\nL 12.40625 0 \r\nz\r\n\" id=\"DejaVuSans-49\"/>\r\n       </defs>\r\n       <use xlink:href=\"#DejaVuSans-49\"/>\r\n       <use x=\"63.623047\" xlink:href=\"#DejaVuSans-48\"/>\r\n       <use x=\"127.246094\" xlink:href=\"#DejaVuSans-48\"/>\r\n      </g>\r\n     </g>\r\n    </g>\r\n    <g id=\"xtick_4\">\r\n     <g id=\"line2d_4\">\r\n      <g>\r\n       <use style=\"stroke:#000000;stroke-width:0.8;\" x=\"187.278067\" xlink:href=\"#m015fb28d85\" y=\"224.64\"/>\r\n      </g>\r\n     </g>\r\n     <g id=\"text_4\">\r\n      <!-- 150 -->\r\n      <g transform=\"translate(177.734317 239.238438)scale(0.1 -0.1)\">\r\n       <use xlink:href=\"#DejaVuSans-49\"/>\r\n       <use x=\"63.623047\" xlink:href=\"#DejaVuSans-53\"/>\r\n       <use x=\"127.246094\" xlink:href=\"#DejaVuSans-48\"/>\r\n      </g>\r\n     </g>\r\n    </g>\r\n    <g id=\"xtick_5\">\r\n     <g id=\"line2d_5\">\r\n      <g>\r\n       <use style=\"stroke:#000000;stroke-width:0.8;\" x=\"234.983966\" xlink:href=\"#m015fb28d85\" y=\"224.64\"/>\r\n      </g>\r\n     </g>\r\n     <g id=\"text_5\">\r\n      <!-- 200 -->\r\n      <g transform=\"translate(225.440216 239.238438)scale(0.1 -0.1)\">\r\n       <defs>\r\n        <path d=\"M 19.1875 8.296875 \r\nL 53.609375 8.296875 \r\nL 53.609375 0 \r\nL 7.328125 0 \r\nL 7.328125 8.296875 \r\nQ 12.9375 14.109375 22.625 23.890625 \r\nQ 32.328125 33.6875 34.8125 36.53125 \r\nQ 39.546875 41.84375 41.421875 45.53125 \r\nQ 43.3125 49.21875 43.3125 52.78125 \r\nQ 43.3125 58.59375 39.234375 62.25 \r\nQ 35.15625 65.921875 28.609375 65.921875 \r\nQ 23.96875 65.921875 18.8125 64.3125 \r\nQ 13.671875 62.703125 7.8125 59.421875 \r\nL 7.8125 69.390625 \r\nQ 13.765625 71.78125 18.9375 73 \r\nQ 24.125 74.21875 28.421875 74.21875 \r\nQ 39.75 74.21875 46.484375 68.546875 \r\nQ 53.21875 62.890625 53.21875 53.421875 \r\nQ 53.21875 48.921875 51.53125 44.890625 \r\nQ 49.859375 40.875 45.40625 35.40625 \r\nQ 44.1875 33.984375 37.640625 27.21875 \r\nQ 31.109375 20.453125 19.1875 8.296875 \r\nz\r\n\" id=\"DejaVuSans-50\"/>\r\n       </defs>\r\n       <use xlink:href=\"#DejaVuSans-50\"/>\r\n       <use x=\"63.623047\" xlink:href=\"#DejaVuSans-48\"/>\r\n       <use x=\"127.246094\" xlink:href=\"#DejaVuSans-48\"/>\r\n      </g>\r\n     </g>\r\n    </g>\r\n    <g id=\"xtick_6\">\r\n     <g id=\"line2d_6\">\r\n      <g>\r\n       <use style=\"stroke:#000000;stroke-width:0.8;\" x=\"282.689865\" xlink:href=\"#m015fb28d85\" y=\"224.64\"/>\r\n      </g>\r\n     </g>\r\n     <g id=\"text_6\">\r\n      <!-- 250 -->\r\n      <g transform=\"translate(273.146115 239.238438)scale(0.1 -0.1)\">\r\n       <use xlink:href=\"#DejaVuSans-50\"/>\r\n       <use x=\"63.623047\" xlink:href=\"#DejaVuSans-53\"/>\r\n       <use x=\"127.246094\" xlink:href=\"#DejaVuSans-48\"/>\r\n      </g>\r\n     </g>\r\n    </g>\r\n    <g id=\"xtick_7\">\r\n     <g id=\"line2d_7\">\r\n      <g>\r\n       <use style=\"stroke:#000000;stroke-width:0.8;\" x=\"330.395764\" xlink:href=\"#m015fb28d85\" y=\"224.64\"/>\r\n      </g>\r\n     </g>\r\n     <g id=\"text_7\">\r\n      <!-- 300 -->\r\n      <g transform=\"translate(320.852014 239.238438)scale(0.1 -0.1)\">\r\n       <defs>\r\n        <path d=\"M 40.578125 39.3125 \r\nQ 47.65625 37.796875 51.625 33 \r\nQ 55.609375 28.21875 55.609375 21.1875 \r\nQ 55.609375 10.40625 48.1875 4.484375 \r\nQ 40.765625 -1.421875 27.09375 -1.421875 \r\nQ 22.515625 -1.421875 17.65625 -0.515625 \r\nQ 12.796875 0.390625 7.625 2.203125 \r\nL 7.625 11.71875 \r\nQ 11.71875 9.328125 16.59375 8.109375 \r\nQ 21.484375 6.890625 26.8125 6.890625 \r\nQ 36.078125 6.890625 40.9375 10.546875 \r\nQ 45.796875 14.203125 45.796875 21.1875 \r\nQ 45.796875 27.640625 41.28125 31.265625 \r\nQ 36.765625 34.90625 28.71875 34.90625 \r\nL 20.21875 34.90625 \r\nL 20.21875 43.015625 \r\nL 29.109375 43.015625 \r\nQ 36.375 43.015625 40.234375 45.921875 \r\nQ 44.09375 48.828125 44.09375 54.296875 \r\nQ 44.09375 59.90625 40.109375 62.90625 \r\nQ 36.140625 65.921875 28.71875 65.921875 \r\nQ 24.65625 65.921875 20.015625 65.03125 \r\nQ 15.375 64.15625 9.8125 62.3125 \r\nL 9.8125 71.09375 \r\nQ 15.4375 72.65625 20.34375 73.4375 \r\nQ 25.25 74.21875 29.59375 74.21875 \r\nQ 40.828125 74.21875 47.359375 69.109375 \r\nQ 53.90625 64.015625 53.90625 55.328125 \r\nQ 53.90625 49.265625 50.4375 45.09375 \r\nQ 46.96875 40.921875 40.578125 39.3125 \r\nz\r\n\" id=\"DejaVuSans-51\"/>\r\n       </defs>\r\n       <use xlink:href=\"#DejaVuSans-51\"/>\r\n       <use x=\"63.623047\" xlink:href=\"#DejaVuSans-48\"/>\r\n       <use x=\"127.246094\" xlink:href=\"#DejaVuSans-48\"/>\r\n      </g>\r\n     </g>\r\n    </g>\r\n   </g>\r\n   <g id=\"matplotlib.axis_2\">\r\n    <g id=\"ytick_1\">\r\n     <g id=\"line2d_8\">\r\n      <defs>\r\n       <path d=\"M 0 0 \r\nL -3.5 0 \r\n\" id=\"mf2864f0e50\" style=\"stroke:#000000;stroke-width:0.8;\"/>\r\n      </defs>\r\n      <g>\r\n       <use style=\"stroke:#000000;stroke-width:0.8;\" x=\"28.942188\" xlink:href=\"#mf2864f0e50\" y=\"185.845588\"/>\r\n      </g>\r\n     </g>\r\n     <g id=\"text_8\">\r\n      <!-- −2 -->\r\n      <g transform=\"translate(7.2 189.644807)scale(0.1 -0.1)\">\r\n       <defs>\r\n        <path d=\"M 10.59375 35.5 \r\nL 73.1875 35.5 \r\nL 73.1875 27.203125 \r\nL 10.59375 27.203125 \r\nz\r\n\" id=\"DejaVuSans-8722\"/>\r\n       </defs>\r\n       <use xlink:href=\"#DejaVuSans-8722\"/>\r\n       <use x=\"83.789062\" xlink:href=\"#DejaVuSans-50\"/>\r\n      </g>\r\n     </g>\r\n    </g>\r\n    <g id=\"ytick_2\">\r\n     <g id=\"line2d_9\">\r\n      <g>\r\n       <use style=\"stroke:#000000;stroke-width:0.8;\" x=\"28.942188\" xlink:href=\"#mf2864f0e50\" y=\"142.922598\"/>\r\n      </g>\r\n     </g>\r\n     <g id=\"text_9\">\r\n      <!-- −1 -->\r\n      <g transform=\"translate(7.2 146.721817)scale(0.1 -0.1)\">\r\n       <use xlink:href=\"#DejaVuSans-8722\"/>\r\n       <use x=\"83.789062\" xlink:href=\"#DejaVuSans-49\"/>\r\n      </g>\r\n     </g>\r\n    </g>\r\n    <g id=\"ytick_3\">\r\n     <g id=\"line2d_10\">\r\n      <g>\r\n       <use style=\"stroke:#000000;stroke-width:0.8;\" x=\"28.942188\" xlink:href=\"#mf2864f0e50\" y=\"99.999608\"/>\r\n      </g>\r\n     </g>\r\n     <g id=\"text_10\">\r\n      <!-- 0 -->\r\n      <g transform=\"translate(15.579688 103.798827)scale(0.1 -0.1)\">\r\n       <use xlink:href=\"#DejaVuSans-48\"/>\r\n      </g>\r\n     </g>\r\n    </g>\r\n    <g id=\"ytick_4\">\r\n     <g id=\"line2d_11\">\r\n      <g>\r\n       <use style=\"stroke:#000000;stroke-width:0.8;\" x=\"28.942188\" xlink:href=\"#mf2864f0e50\" y=\"57.076618\"/>\r\n      </g>\r\n     </g>\r\n     <g id=\"text_11\">\r\n      <!-- 1 -->\r\n      <g transform=\"translate(15.579688 60.875837)scale(0.1 -0.1)\">\r\n       <use xlink:href=\"#DejaVuSans-49\"/>\r\n      </g>\r\n     </g>\r\n    </g>\r\n    <g id=\"ytick_5\">\r\n     <g id=\"line2d_12\">\r\n      <g>\r\n       <use style=\"stroke:#000000;stroke-width:0.8;\" x=\"28.942188\" xlink:href=\"#mf2864f0e50\" y=\"14.153628\"/>\r\n      </g>\r\n     </g>\r\n     <g id=\"text_12\">\r\n      <!-- 2 -->\r\n      <g transform=\"translate(15.579688 17.952847)scale(0.1 -0.1)\">\r\n       <use xlink:href=\"#DejaVuSans-50\"/>\r\n      </g>\r\n     </g>\r\n    </g>\r\n   </g>\r\n   <g id=\"line2d_13\">\r\n    <path clip-path=\"url(#p6d38f4f76c)\" d=\"M 44.160369 99.999608 \r\nL 348.524006 99.999608 \r\nL 348.524006 99.999608 \r\n\" style=\"fill:none;stroke:#1f77b4;stroke-linecap:square;stroke-width:1.5;\"/>\r\n   </g>\r\n   <g id=\"line2d_14\">\r\n    <path clip-path=\"url(#p6d38f4f76c)\" d=\"M 44.160369 105.923939 \r\nL 45.114487 94.123882 \r\nL 46.068605 172.018198 \r\nL 47.022723 76.240784 \r\nL 47.976841 63.98755 \r\nL 48.930959 80.929433 \r\nL 49.885077 104.006647 \r\nL 50.839195 58.653995 \r\nL 51.793313 86.175838 \r\nL 52.747431 102.472814 \r\nL 53.701549 113.488523 \r\nL 54.655667 120.338482 \r\nL 55.609785 82.532985 \r\nL 56.563903 108.503567 \r\nL 57.518021 78.053497 \r\nL 58.472139 104.808424 \r\nL 59.426257 78.105785 \r\nL 60.380375 33.729207 \r\nL 61.334493 151.973786 \r\nL 62.288611 102.908562 \r\nL 63.242729 80.075367 \r\nL 64.196847 119.745865 \r\nL 65.150965 127.066433 \r\nL 66.105083 80.545975 \r\nL 67.059201 173.51717 \r\nL 68.013319 103.710339 \r\nL 68.967437 98.115334 \r\nL 69.921555 55.290019 \r\nL 70.875673 72.685081 \r\nL 71.829791 127.118722 \r\nL 72.783909 82.376116 \r\nL 73.738027 118.50834 \r\nL 74.692145 95.936594 \r\nL 75.646263 37.128044 \r\nL 76.600381 111.135485 \r\nL 77.554499 87.413363 \r\nL 78.508617 119.833015 \r\nL 79.462735 114.621469 \r\nL 80.416853 71.255828 \r\nL 81.370971 123.998767 \r\nL 82.325089 63.185773 \r\nL 83.279207 95.849444 \r\nL 84.233325 100.433514 \r\nL 85.187443 151.747198 \r\nL 86.141561 53.913058 \r\nL 87.095679 100.032625 \r\nL 88.049797 125.061991 \r\nL 89.003914 174.144646 \r\nL 89.958032 66.236011 \r\nL 90.91215 40.962624 \r\nL 91.866268 57.41647 \r\nL 93.774504 104.895573 \r\nL 94.728622 82.933874 \r\nL 95.68274 187.914288 \r\nL 96.636858 73.504286 \r\nL 97.590976 70.43662 \r\nL 98.545094 163.791274 \r\nL 99.499212 97.697016 \r\nL 100.45333 112.05927 \r\nL 101.407448 153.211314 \r\nL 102.361566 171.425578 \r\nL 103.315684 75.439007 \r\nL 104.269802 107.527491 \r\nL 105.22392 176.340815 \r\nL 106.178038 126.961853 \r\nL 107.132156 99.02169 \r\nL 108.086274 77.879197 \r\nL 109.040392 182.911896 \r\nL 109.99451 110.891465 \r\nL 110.948628 111.118055 \r\nL 111.902746 51.734316 \r\nL 112.856864 47.237394 \r\nL 113.810982 113.418804 \r\nL 114.7651 132.277977 \r\nL 115.719218 113.070205 \r\nL 116.673336 86.907895 \r\nL 117.627454 160.828185 \r\nL 118.581572 120.687081 \r\nL 119.53569 73.713446 \r\nL 120.489808 206.44229 \r\nL 121.443926 99.701457 \r\nL 122.398044 96.546641 \r\nL 123.352162 63.168345 \r\nL 124.30628 70.175171 \r\nL 125.260398 94.69907 \r\nL 126.214516 178.136097 \r\nL 127.168634 117.044228 \r\nL 128.122752 107.85866 \r\nL 129.07687 124.364793 \r\nL 130.030988 67.647833 \r\nL 130.985106 63.813251 \r\nL 131.939224 83.003593 \r\nL 132.893342 38.348139 \r\nL 133.84746 103.030572 \r\nL 134.801578 137.750973 \r\nL 135.755696 151.956358 \r\nL 136.709814 109.84567 \r\nL 137.663932 140.504901 \r\nL 138.61805 72.998819 \r\nL 139.572168 185.718113 \r\nL 140.526286 78.785552 \r\nL 141.480404 150.056498 \r\nL 142.434521 92.816639 \r\nL 143.388639 79.587328 \r\nL 144.342757 109.427353 \r\nL 145.296875 111.501513 \r\nL 146.250993 60.937314 \r\nL 147.205111 118.891799 \r\nL 148.159229 214.756364 \r\nL 149.113347 77.600318 \r\nL 150.067465 95.954024 \r\nL 151.021583 83.665931 \r\nL 151.975701 130.901015 \r\nL 152.929819 91.317665 \r\nL 153.883937 129.48919 \r\nL 154.838055 119.327547 \r\nL 155.792173 71.656715 \r\nL 156.746291 17.083636 \r\nL 158.654527 110.891465 \r\nL 159.608645 91.230515 \r\nL 160.562763 104.930433 \r\nL 161.516881 69.251386 \r\nL 162.470999 69.756853 \r\nL 163.425117 100.485803 \r\nL 164.379235 175.469319 \r\nL 165.333353 60.972173 \r\nL 166.287471 60.118109 \r\nL 167.241589 72.441062 \r\nL 168.195707 171.704455 \r\nL 169.149825 78.924992 \r\nL 170.103943 99.178559 \r\nL 171.058061 79.25616 \r\nL 172.012179 76.171065 \r\nL 172.966297 149.812477 \r\nL 173.920415 95.622856 \r\nL 174.874533 172.854834 \r\nL 175.828651 130.866155 \r\nL 176.782769 194.921117 \r\nL 177.736887 72.73737 \r\nL 178.691005 182.563297 \r\nL 179.645123 51.943476 \r\nL 180.599241 106.743145 \r\nL 181.553359 50.723381 \r\nL 182.507477 131.824801 \r\nL 183.461595 89.539814 \r\nL 184.415713 69.425685 \r\nL 185.369831 153.124164 \r\nL 186.323949 59.73465 \r\nL 187.278067 148.296077 \r\nL 188.232185 32.753133 \r\nL 189.186303 75.561017 \r\nL 190.140421 165.011369 \r\nL 191.094539 73.190548 \r\nL 192.048657 78.628683 \r\nL 193.002775 54.645111 \r\nL 193.956893 60.553855 \r\nL 194.911011 56.684414 \r\nL 195.865129 61.808811 \r\nL 196.819246 163.425247 \r\nL 197.773364 79.691909 \r\nL 198.727482 116.259881 \r\nL 199.6816 102.037066 \r\nL 200.635718 171.251279 \r\nL 201.589836 77.513168 \r\nL 202.543954 95.849444 \r\nL 203.498072 162.396879 \r\nL 204.45219 33.86865 \r\nL 205.406308 100.398654 \r\nL 206.360426 146.169624 \r\nL 207.314544 90.30673 \r\nL 208.268662 104.512115 \r\nL 209.22278 128.373675 \r\nL 210.176898 74.724382 \r\nL 211.131016 186.363022 \r\nL 212.085134 102.315945 \r\nL 213.039252 81.295461 \r\nL 213.99337 48.980388 \r\nL 214.947488 52.483802 \r\nL 215.901606 154.204816 \r\nL 216.855724 159.974122 \r\nL 217.809842 189.116945 \r\nL 218.76396 86.123549 \r\nL 219.718078 146.727383 \r\nL 220.672196 63.726101 \r\nL 221.626314 102.542534 \r\nL 222.580432 187.286802 \r\nL 223.53455 125.32344 \r\nL 224.488668 88.755467 \r\nL 225.442786 95.465986 \r\nL 226.396904 103.727769 \r\nL 227.351022 109.828241 \r\nL 228.30514 93.862434 \r\nL 229.259258 105.836789 \r\nL 230.213376 93.234956 \r\nL 231.167494 70.907229 \r\nL 232.121612 101.27015 \r\nL 233.07573 143.17168 \r\nL 234.029848 65.242504 \r\nL 234.983966 105.418471 \r\nL 235.938084 154.797436 \r\nL 236.892202 173.639181 \r\nL 237.84632 168.288196 \r\nL 238.800438 113.732543 \r\nL 239.754556 77.182 \r\nL 240.708674 106.237677 \r\nL 241.662792 193.457 \r\nL 242.61691 91.108506 \r\nL 243.571028 76.083915 \r\nL 244.525146 116.29474 \r\nL 245.479264 87.395933 \r\nL 246.433382 108.730156 \r\nL 247.3875 80.110226 \r\nL 249.295736 47.272255 \r\nL 250.249854 170.310066 \r\nL 251.203971 184.18428 \r\nL 252.158089 90.27187 \r\nL 253.112207 81.208311 \r\nL 254.066325 56.405537 \r\nL 255.020443 79.378169 \r\nL 255.974561 121.192548 \r\nL 256.928679 64.981055 \r\nL 257.882797 56.178944 \r\nL 258.836915 68.658769 \r\nL 259.791033 114.952637 \r\nL 260.745151 191.469986 \r\nL 261.699269 179.809369 \r\nL 262.653387 96.77323 \r\nL 263.607505 64.17928 \r\nL 264.561623 74.114334 \r\nL 265.515741 177.316895 \r\nL 266.469859 86.332708 \r\nL 267.423977 94.69907 \r\nL 268.378095 89.435234 \r\nL 269.332213 176.602264 \r\nL 270.286331 68.780779 \r\nL 271.240449 69.460546 \r\nL 272.194567 121.227409 \r\nL 273.148685 92.032292 \r\nL 274.102803 71.691574 \r\nL 275.056921 80.476254 \r\nL 276.965157 90.969067 \r\nL 277.919275 74.933539 \r\nL 278.873393 123.353858 \r\nL 279.827511 76.955412 \r\nL 280.781629 106.394546 \r\nL 281.735747 87.97112 \r\nL 282.689865 148.383227 \r\nL 283.643983 90.481029 \r\nL 284.598101 54.714833 \r\nL 285.552219 99.684027 \r\nL 286.506337 164.000434 \r\nL 287.460455 55.917495 \r\nL 288.414573 131.284472 \r\nL 289.368691 84.397987 \r\nL 290.322809 106.446836 \r\nL 291.276927 108.660436 \r\nL 292.231045 77.007701 \r\nL 293.185163 81.190882 \r\nL 294.139281 113.784832 \r\nL 295.093399 83.421911 \r\nL 296.047517 100.206925 \r\nL 297.001635 50.827959 \r\nL 297.955753 119.362407 \r\nL 298.909871 76.188495 \r\nL 299.863989 64.039839 \r\nL 300.818107 107.213753 \r\nL 301.772225 165.150808 \r\nL 302.726343 110.194269 \r\nL 303.680461 92.781778 \r\nL 304.634578 148.801542 \r\nL 305.588696 56.091794 \r\nL 306.542814 115.231515 \r\nL 307.496932 47.237394 \r\nL 308.45105 167.416699 \r\nL 309.405168 81.55691 \r\nL 310.359286 100.677533 \r\nL 311.313404 75.613306 \r\nL 312.267522 102.437954 \r\nL 313.22164 53.494737 \r\nL 314.175758 85.408923 \r\nL 315.129876 122.621802 \r\nL 316.083994 101.531599 \r\nL 317.038112 123.929047 \r\nL 317.99223 118.717501 \r\nL 318.946348 86.820745 \r\nL 319.900466 88.389438 \r\nL 320.854584 152.217807 \r\nL 321.808702 113.000486 \r\nL 322.76282 107.144033 \r\nL 323.716938 83.77051 \r\nL 324.671056 37.79038 \r\nL 325.625174 134.683307 \r\nL 326.579292 113.906843 \r\nL 327.53341 107.841229 \r\nL 328.487528 70.785219 \r\nL 329.441646 65.085635 \r\nL 330.395764 49.590435 \r\nL 331.349882 119.031238 \r\nL 332.304 80.545975 \r\nL 333.258118 81.38261 \r\nL 334.212236 173.883197 \r\nL 335.166354 153.054443 \r\nL 337.07459 67.961571 \r\nL 338.028708 154.25711 \r\nL 338.982826 104.180946 \r\nL 339.936944 124.922552 \r\nL 340.891062 123.057551 \r\nL 341.84518 214.11145 \r\nL 342.799298 98.603372 \r\nL 343.753416 70.384331 \r\nL 344.707534 125.14914 \r\nL 345.661652 91.945143 \r\nL 346.61577 86.332708 \r\nL 347.569888 113.593103 \r\nL 348.524006 59.473201 \r\nL 348.524006 59.473201 \r\n\" style=\"fill:none;stroke:#ff7f0e;stroke-linecap:square;stroke-width:1.5;\"/>\r\n   </g>\r\n   <g id=\"patch_3\">\r\n    <path d=\"M 28.942188 224.64 \r\nL 28.942188 7.2 \r\n\" style=\"fill:none;stroke:#000000;stroke-linecap:square;stroke-linejoin:miter;stroke-width:0.8;\"/>\r\n   </g>\r\n   <g id=\"patch_4\">\r\n    <path d=\"M 363.742188 224.64 \r\nL 363.742188 7.2 \r\n\" style=\"fill:none;stroke:#000000;stroke-linecap:square;stroke-linejoin:miter;stroke-width:0.8;\"/>\r\n   </g>\r\n   <g id=\"patch_5\">\r\n    <path d=\"M 28.942187 224.64 \r\nL 363.742188 224.64 \r\n\" style=\"fill:none;stroke:#000000;stroke-linecap:square;stroke-linejoin:miter;stroke-width:0.8;\"/>\r\n   </g>\r\n   <g id=\"patch_6\">\r\n    <path d=\"M 28.942187 7.2 \r\nL 363.742188 7.2 \r\n\" style=\"fill:none;stroke:#000000;stroke-linecap:square;stroke-linejoin:miter;stroke-width:0.8;\"/>\r\n   </g>\r\n  </g>\r\n </g>\r\n <defs>\r\n  <clipPath id=\"p6d38f4f76c\">\r\n   <rect height=\"217.44\" width=\"334.8\" x=\"28.942188\" y=\"7.2\"/>\r\n  </clipPath>\r\n </defs>\r\n</svg>\r\n",
      "image/png": "[encoded data removed]"
     },
     "metadata": {
      "needs_background": "light"
     }
    }
   ],
   "source": [
    "plt.plot(range(0, len(train_label.squeeze())), pred.squeeze(), train_label.squeeze())"
   ]
  },
  {
   "cell_type": "code",
   "execution_count": null,
   "metadata": {},
   "outputs": [],
   "source": []
  }
 ]
}